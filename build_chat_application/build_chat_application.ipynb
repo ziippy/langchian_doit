{
 "cells": [
  {
   "cell_type": "markdown",
   "metadata": {},
   "source": [
    "# 대화형 애플리케이션 구축\n",
    "\n",
    "사용자가 원하는 것에 도움을 줄 수 있는 텍스트 대화영 애플리케이션을 만들어보자.\n",
    "\n",
    "세 가지 유형의 메시지가 있다.\n",
    "\n",
    "- System message: 봇이 여행 도우미로 작동할 수 있도록 봇에 제공하는 지침\n",
    "- AI message: LLM에서 생성된 메시지\n",
    "- Human message: 사용자의 쿼리"
   ]
  },
  {
   "cell_type": "code",
   "execution_count": 1,
   "metadata": {},
   "outputs": [
    {
     "data": {
      "text/plain": [
       "True"
      ]
     },
     "execution_count": 1,
     "metadata": {},
     "output_type": "execute_result"
    }
   ],
   "source": [
    "import os\n",
    "from dotenv import load_dotenv\n",
    "#from langchain import HuggingFaceHub\n",
    "\n",
    "from langchain import PromptTemplate, LLMChain\n",
    "load_dotenv(dotenv_path=\"../.env\")"
   ]
  },
  {
   "cell_type": "code",
   "execution_count": 2,
   "metadata": {},
   "outputs": [],
   "source": [
    "from langchain.prompts import (\n",
    "    ChatPromptTemplate,\n",
    "    MessagesPlaceholder,\n",
    "    SystemMessagePromptTemplate,\n",
    "    HumanMessagePromptTemplate,\n",
    ")\n",
    "\n",
    "from langchain.schema import (\n",
    "    AIMessage,\n",
    "    HumanMessage,\n",
    "    SystemMessage\n",
    ")\n",
    "\n",
    "from langchain.chains import LLMChain, ConversationChain  \n",
    "from langchain_openai import ChatOpenAI\n",
    "\n",
    "\n",
    "chat = ChatOpenAI()"
   ]
  },
  {
   "cell_type": "code",
   "execution_count": 3,
   "metadata": {},
   "outputs": [],
   "source": [
    "messages = [\n",
    "    SystemMessage(content=\"당신은 사용자가 최적화된 여행 일정을 계획하는 데 도움을 주는 유용한 도우미입니다.\"),\n",
    "    HumanMessage(content=\"저는 로마에 2일 동안 가는데, 어디에 방문할 수 있을까요?\")\n",
    "]"
   ]
  },
  {
   "cell_type": "code",
   "execution_count": 4,
   "metadata": {},
   "outputs": [
    {
     "name": "stdout",
     "output_type": "stream",
     "text": [
      "로마에 2일 동안 방문하는 것은 정말 멋진 경험일 것입니다! 여행 일정을 최적화하기 위해 다음과 같은 장소들을 방문해 볼 수 있습니다:\n",
      "\n",
      "1일차:\n",
      "- **콜로세움과 로마 포럼**: 고대 로마의 상징적인 건축물들을 구경하고 역사에 대해 배울 수 있는 곳입니다.\n",
      "- **팔라티노 언덕**: 콜로세움 옆에 위치한 곳으로, 로마 제국의 탄생지로 알려져 있습니다.\n",
      "- **판테온**: 로마의 역사적인 건축물 중 하나로, 아름다운 돔 형태의 건물입니다.\n",
      "- **나블로 광장**: 로마의 중심에 위치한 광장으로, 아름다운 분수와 건물들이 있는 곳입니다.\n",
      "\n",
      "2일차:\n",
      "- **바티칸 시국**: 성베드로 교회와 시스틴 성당을 방문하여 예술과 종교적인 경험을 즐길 수 있습니다.\n",
      "- **스페인 광장과 스페인 계단**: 시간을 내어 스페인 광장과 스페인 계단을 거닐며 로마의 아름다움을 만끽해보세요.\n",
      "- **트레비 분수**: 유명한 분수 중 하나로, 동전을 던져 소원을 빌기로 유명합니다. 이곳을 방문하여 로마 여행을 마무리할 수 있습니다.\n",
      "\n",
      "위의 일정은 유동적이므로 여행 일정에 맞게 조절하실 수 있습니다. 즐거운 여행 되세요!\n"
     ]
    }
   ],
   "source": [
    "output = chat.invoke(messages)\n",
    "print(output.content)"
   ]
  },
  {
   "cell_type": "markdown",
   "metadata": {},
   "source": [
    "## 기억(메모리) 추가하기"
   ]
  },
  {
   "cell_type": "code",
   "execution_count": 5,
   "metadata": {},
   "outputs": [
    {
     "name": "stderr",
     "output_type": "stream",
     "text": [
      "/tmp/ipykernel_1465674/774508947.py:4: LangChainDeprecationWarning: Please see the migration guide at: https://python.langchain.com/docs/versions/migrating_memory/\n",
      "  memory = ConversationBufferMemory()\n",
      "/tmp/ipykernel_1465674/774508947.py:5: LangChainDeprecationWarning: The class `ConversationChain` was deprecated in LangChain 0.2.7 and will be removed in 1.0. Use :meth:`~RunnableWithMessageHistory: https://python.langchain.com/v0.2/api_reference/core/runnables/langchain_core.runnables.history.RunnableWithMessageHistory.html` instead.\n",
      "  conversation = ConversationChain(\n"
     ]
    }
   ],
   "source": [
    "from langchain.memory import ConversationBufferMemory\n",
    "from langchain.chains import ConversationChain  \n",
    "\n",
    "memory = ConversationBufferMemory()\n",
    "conversation = ConversationChain(\n",
    "    llm=chat, verbose=True, memory=memory\n",
    ")"
   ]
  },
  {
   "cell_type": "code",
   "execution_count": 6,
   "metadata": {},
   "outputs": [
    {
     "name": "stdout",
     "output_type": "stream",
     "text": [
      "\n",
      "\n",
      "\u001b[1m> Entering new ConversationChain chain...\u001b[0m\n",
      "Prompt after formatting:\n",
      "\u001b[32;1m\u001b[1;3mThe following is a friendly conversation between a human and an AI. The AI is talkative and provides lots of specific details from its context. If the AI does not know the answer to a question, it truthfully says it does not know.\n",
      "\n",
      "Current conversation:\n",
      "\n",
      "Human: 안녕하세요!\n",
      "AI:\u001b[0m\n",
      "\n",
      "\u001b[1m> Finished chain.\u001b[0m\n"
     ]
    },
    {
     "data": {
      "text/plain": [
       "{'input': '안녕하세요!', 'history': '', 'response': '안녕하세요! 어떻게 도와 드릴까요?'}"
      ]
     },
     "execution_count": 6,
     "metadata": {},
     "output_type": "execute_result"
    }
   ],
   "source": [
    "conversation.invoke(\"안녕하세요!\")"
   ]
  },
  {
   "cell_type": "code",
   "execution_count": 7,
   "metadata": {},
   "outputs": [
    {
     "name": "stdout",
     "output_type": "stream",
     "text": [
      "\n",
      "\n",
      "\u001b[1m> Entering new ConversationChain chain...\u001b[0m\n",
      "Prompt after formatting:\n",
      "\u001b[32;1m\u001b[1;3mThe following is a friendly conversation between a human and an AI. The AI is talkative and provides lots of specific details from its context. If the AI does not know the answer to a question, it truthfully says it does not know.\n",
      "\n",
      "Current conversation:\n",
      "Human: 안녕하세요!\n",
      "AI: 안녕하세요! 어떻게 도와 드릴까요?\n",
      "Human: 로마에서 가장 가볼 만한 곳이 어디인가요?\n",
      "AI:\u001b[0m\n",
      "\n",
      "\u001b[1m> Finished chain.\u001b[0m\n"
     ]
    },
    {
     "data": {
      "text/plain": [
       "{'input': '로마에서 가장 가볼 만한 곳이 어디인가요?',\n",
       " 'history': 'Human: 안녕하세요!\\nAI: 안녕하세요! 어떻게 도와 드릴까요?',\n",
       " 'response': '로마에서 가장 가볼 만한 곳은 콜로세움이라고 할 수 있어요. 콜로세움은 고대 로마 제국의 유명한 유물로, 현재도 많은 관광객들이 방문하는 곳이에요. 또한 로마의 트레비 분수나 바티칸 시티의 성당도 매우 인기가 많아요. 다만 현재 코로나19로 인해 일부 관광지가 폐쇄되어 있을 수도 있으니 참고해 주세요.'}"
      ]
     },
     "execution_count": 7,
     "metadata": {},
     "output_type": "execute_result"
    }
   ],
   "source": [
    "conversation.invoke(\"로마에서 가장 가볼 만한 곳이 어디인가요?\")"
   ]
  },
  {
   "cell_type": "code",
   "execution_count": 8,
   "metadata": {},
   "outputs": [
    {
     "name": "stdout",
     "output_type": "stream",
     "text": [
      "\n",
      "\n",
      "\u001b[1m> Entering new ConversationChain chain...\u001b[0m\n",
      "Prompt after formatting:\n",
      "\u001b[32;1m\u001b[1;3mThe following is a friendly conversation between a human and an AI. The AI is talkative and provides lots of specific details from its context. If the AI does not know the answer to a question, it truthfully says it does not know.\n",
      "\n",
      "Current conversation:\n",
      "Human: 안녕하세요!\n",
      "AI: 안녕하세요! 어떻게 도와 드릴까요?\n",
      "Human: 로마에서 가장 가볼 만한 곳이 어디인가요?\n",
      "AI: 로마에서 가장 가볼 만한 곳은 콜로세움이라고 할 수 있어요. 콜로세움은 고대 로마 제국의 유명한 유물로, 현재도 많은 관광객들이 방문하는 곳이에요. 또한 로마의 트레비 분수나 바티칸 시티의 성당도 매우 인기가 많아요. 다만 현재 코로나19로 인해 일부 관광지가 폐쇄되어 있을 수도 있으니 참고해 주세요.\n",
      "Human: 다른 곳도 추천해 주세요.\n",
      "AI:\u001b[0m\n",
      "\n",
      "\u001b[1m> Finished chain.\u001b[0m\n"
     ]
    },
    {
     "data": {
      "text/plain": [
       "{'input': '다른 곳도 추천해 주세요.',\n",
       " 'history': 'Human: 안녕하세요!\\nAI: 안녕하세요! 어떻게 도와 드릴까요?\\nHuman: 로마에서 가장 가볼 만한 곳이 어디인가요?\\nAI: 로마에서 가장 가볼 만한 곳은 콜로세움이라고 할 수 있어요. 콜로세움은 고대 로마 제국의 유명한 유물로, 현재도 많은 관광객들이 방문하는 곳이에요. 또한 로마의 트레비 분수나 바티칸 시티의 성당도 매우 인기가 많아요. 다만 현재 코로나19로 인해 일부 관광지가 폐쇄되어 있을 수도 있으니 참고해 주세요.',\n",
       " 'response': '로마에서 가볼 만한 곳으로는 로마노 포로 광장이나 스페인 광장, 파나티코 힐, 로마 제국 포럼, 카피톨린 힐 등도 추천드릴 수 있어요. 또한 로마의 다양한 박물관과 예술 갤러리도 매우 풍부하니 관심 있는 분야에 맞는 곳을 방문하시면 좋을 것 같아요. 추가적인 정보가 필요하시면 언제든지 물어보세요!'}"
      ]
     },
     "execution_count": 8,
     "metadata": {},
     "output_type": "execute_result"
    }
   ],
   "source": [
    "conversation.invoke(\"다른 곳도 추천해 주세요.\")"
   ]
  },
  {
   "cell_type": "code",
   "execution_count": 10,
   "metadata": {},
   "outputs": [
    {
     "data": {
      "text/plain": [
       "{'history': 'Human: 안녕하세요!\\nAI: 안녕하세요! 어떻게 도와 드릴까요?\\nHuman: 로마에서 가장 가볼 만한 곳이 어디인가요?\\nAI: 로마에서 가장 가볼 만한 곳은 콜로세움이라고 할 수 있어요. 콜로세움은 고대 로마 제국의 유명한 유물로, 현재도 많은 관광객들이 방문하는 곳이에요. 또한 로마의 트레비 분수나 바티칸 시티의 성당도 매우 인기가 많아요. 다만 현재 코로나19로 인해 일부 관광지가 폐쇄되어 있을 수도 있으니 참고해 주세요.\\nHuman: 다른 곳도 추천해 주세요.\\nAI: 로마에서 가볼 만한 곳으로는 로마노 포로 광장이나 스페인 광장, 파나티코 힐, 로마 제국 포럼, 카피톨린 힐 등도 추천드릴 수 있어요. 또한 로마의 다양한 박물관과 예술 갤러리도 매우 풍부하니 관심 있는 분야에 맞는 곳을 방문하시면 좋을 것 같아요. 추가적인 정보가 필요하시면 언제든지 물어보세요!'}"
      ]
     },
     "execution_count": 10,
     "metadata": {},
     "output_type": "execute_result"
    }
   ],
   "source": [
    "memory.load_memory_variables({})"
   ]
  },
  {
   "cell_type": "markdown",
   "metadata": {},
   "source": [
    "## 기억(메모리) 추가하기 - langgraph"
   ]
  },
  {
   "cell_type": "code",
   "execution_count": 25,
   "metadata": {},
   "outputs": [],
   "source": [
    "from dotenv import load_dotenv\n",
    "load_dotenv(dotenv_path=\"../.env\")\n",
    "\n",
    "from langchain_openai import ChatOpenAI\n",
    "from langgraph.checkpoint.memory import MemorySaver\n",
    "from langgraph.graph import START, MessagesState, StateGraph\n",
    "\n",
    "# Define a new graph\n",
    "workflow = StateGraph(state_schema=MessagesState)\n",
    "\n",
    "# Adding memory is straight forward in langgraph!\n",
    "memory = MemorySaver()\n",
    "\n",
    "chat = ChatOpenAI()"
   ]
  },
  {
   "cell_type": "code",
   "execution_count": 26,
   "metadata": {},
   "outputs": [],
   "source": [
    "# Define the function that calls the model\n",
    "def call_model(state: MessagesState):\n",
    "    response = chat.invoke(state[\"messages\"])\n",
    "    # We return a list, because this will get added to the existing list\n",
    "    return {\"messages\": response}"
   ]
  },
  {
   "cell_type": "code",
   "execution_count": 27,
   "metadata": {},
   "outputs": [
    {
     "data": {
      "text/plain": [
       "<langgraph.graph.state.StateGraph at 0x7fcd78109db0>"
      ]
     },
     "execution_count": 27,
     "metadata": {},
     "output_type": "execute_result"
    }
   ],
   "source": [
    "# Define the two nodes we will cycle between\n",
    "workflow.add_edge(START, \"chat\")\n",
    "workflow.add_node(\"chat\", call_model)"
   ]
  },
  {
   "cell_type": "code",
   "execution_count": 28,
   "metadata": {},
   "outputs": [],
   "source": [
    "app = workflow.compile(\n",
    "    checkpointer=memory\n",
    ")"
   ]
  },
  {
   "cell_type": "code",
   "execution_count": 29,
   "metadata": {},
   "outputs": [],
   "source": [
    "import uuid\n",
    "thread_id = uuid.uuid4()\n",
    "config = {\"configurable\": {\"thread_id\": thread_id}}"
   ]
  },
  {
   "cell_type": "code",
   "execution_count": 31,
   "metadata": {},
   "outputs": [
    {
     "name": "stdout",
     "output_type": "stream",
     "text": [
      "================================\u001b[1m Human Message \u001b[0m=================================\n",
      "\n",
      "안녕하세요\n",
      "==================================\u001b[1m Ai Message \u001b[0m==================================\n",
      "\n",
      "안녕하세요! 한화그룹에 대해 궁금한 점이 있으신가요? 저에게 물어보세요.\n"
     ]
    }
   ],
   "source": [
    "from langchain_core.messages import SystemMessage, HumanMessage\n",
    "\n",
    "system_message = SystemMessage(content=\"당신은 한화그룹에 대한 정보를 알려주는 도우미입니다.\")\n",
    "input_message = HumanMessage(content=\"안녕하세요\")\n",
    "for event in app.stream({\"messages\": [system_message, input_message]}, config, stream_mode=\"values\"):\n",
    "    event[\"messages\"][-1].pretty_print()"
   ]
  },
  {
   "cell_type": "code",
   "execution_count": 32,
   "metadata": {},
   "outputs": [
    {
     "name": "stdout",
     "output_type": "stream",
     "text": [
      "================================\u001b[1m Human Message \u001b[0m=================================\n",
      "\n",
      "한화그룹은 어디에 있어?\n",
      "==================================\u001b[1m Ai Message \u001b[0m==================================\n",
      "\n",
      "한화그룹은 대한민국에 본사를 두고 있습니다. 그러나 한화그룹은 국제적인 기업으로 활동하고 있어 전 세계에 다양한 지사와 사업장을 운영하고 있습니다. 주요한 사업지역으로는 미국, 중국, 일본, 베트남, 인도 등이 있습니다.\n"
     ]
    }
   ],
   "source": [
    "input_message = HumanMessage(content=\"한화그룹은 어디에 있어?\")\n",
    "for event in app.stream({\"messages\": [input_message]}, config, stream_mode=\"values\"):\n",
    "    event[\"messages\"][-1].pretty_print()"
   ]
  },
  {
   "cell_type": "code",
   "execution_count": 33,
   "metadata": {},
   "outputs": [
    {
     "name": "stdout",
     "output_type": "stream",
     "text": [
      "================================\u001b[1m Human Message \u001b[0m=================================\n",
      "\n",
      "한화그룹 창립일은?\n",
      "==================================\u001b[1m Ai Message \u001b[0m==================================\n",
      "\n",
      "한화그룹은 1952년에 창립되었습니다. 처음에는 성립 당시의 이름인 \"태안상사\"로 시작했으며, 이후에 한화그룹으로 발전하였습니다. 이후 1958년에 한화그룹으로 상호를 변경하였습니다.\n"
     ]
    }
   ],
   "source": [
    "input_message = HumanMessage(content=\"한화그룹 창립일은?\")\n",
    "for event in app.stream({\"messages\": [input_message]}, config, stream_mode=\"values\"):\n",
    "    event[\"messages\"][-1].pretty_print()"
   ]
  },
  {
   "cell_type": "code",
   "execution_count": 34,
   "metadata": {},
   "outputs": [
    {
     "name": "stdout",
     "output_type": "stream",
     "text": [
      "현재 상태: {'messages': [SystemMessage(content='당신은 한화그룹에 대한 정보를 알려주는 도우미입니다.', additional_kwargs={}, response_metadata={}, id='e9ac8790-e0a3-4ea5-8e05-3ebbeea49d7d'), HumanMessage(content='안녕하세요', additional_kwargs={}, response_metadata={}, id='e700ec12-d12d-4556-a5f2-b9e23aa322d0'), AIMessage(content='안녕하세요! 한화그룹에 대해 궁금한 점이 있으신가요? 저에게 물어보세요.', additional_kwargs={'refusal': None}, response_metadata={'token_usage': {'completion_tokens': 41, 'prompt_tokens': 41, 'total_tokens': 82, 'completion_tokens_details': {'accepted_prediction_tokens': 0, 'audio_tokens': 0, 'reasoning_tokens': 0, 'rejected_prediction_tokens': 0}, 'prompt_tokens_details': {'audio_tokens': 0, 'cached_tokens': 0}}, 'model_name': 'gpt-3.5-turbo-0125', 'system_fingerprint': None, 'finish_reason': 'stop', 'logprobs': None}, id='run-c5c577a4-17bd-45ee-97d4-644700960dff-0', usage_metadata={'input_tokens': 41, 'output_tokens': 41, 'total_tokens': 82, 'input_token_details': {'audio': 0, 'cache_read': 0}, 'output_token_details': {'audio': 0, 'reasoning': 0}}), HumanMessage(content='한화그룹은 어디에 있어?', additional_kwargs={}, response_metadata={}, id='ef6e2676-5a13-4b29-8220-89af80f62a73'), AIMessage(content='한화그룹은 대한민국에 본사를 두고 있습니다. 그러나 한화그룹은 국제적인 기업으로 활동하고 있어 전 세계에 다양한 지사와 사업장을 운영하고 있습니다. 주요한 사업지역으로는 미국, 중국, 일본, 베트남, 인도 등이 있습니다.', additional_kwargs={'refusal': None}, response_metadata={'token_usage': {'completion_tokens': 115, 'prompt_tokens': 102, 'total_tokens': 217, 'completion_tokens_details': {'accepted_prediction_tokens': 0, 'audio_tokens': 0, 'reasoning_tokens': 0, 'rejected_prediction_tokens': 0}, 'prompt_tokens_details': {'audio_tokens': 0, 'cached_tokens': 0}}, 'model_name': 'gpt-3.5-turbo-0125', 'system_fingerprint': None, 'finish_reason': 'stop', 'logprobs': None}, id='run-36ebfdd5-befa-4e0d-8925-4edd60dac242-0', usage_metadata={'input_tokens': 102, 'output_tokens': 115, 'total_tokens': 217, 'input_token_details': {'audio': 0, 'cache_read': 0}, 'output_token_details': {'audio': 0, 'reasoning': 0}}), HumanMessage(content='한화그룹 창립일은?', additional_kwargs={}, response_metadata={}, id='dd98f9a4-85f5-4a56-b2aa-993f0d286b64'), AIMessage(content='한화그룹은 1952년에 창립되었습니다. 처음에는 성립 당시의 이름인 \"태안상사\"로 시작했으며, 이후에 한화그룹으로 발전하였습니다. 이후 1958년에 한화그룹으로 상호를 변경하였습니다.', additional_kwargs={'refusal': None}, response_metadata={'token_usage': {'completion_tokens': 92, 'prompt_tokens': 236, 'total_tokens': 328, 'completion_tokens_details': {'accepted_prediction_tokens': 0, 'audio_tokens': 0, 'reasoning_tokens': 0, 'rejected_prediction_tokens': 0}, 'prompt_tokens_details': {'audio_tokens': 0, 'cached_tokens': 0}}, 'model_name': 'gpt-3.5-turbo-0125', 'system_fingerprint': None, 'finish_reason': 'stop', 'logprobs': None}, id='run-bcc6ed99-6f52-4a43-8182-de2cc8a588fb-0', usage_metadata={'input_tokens': 236, 'output_tokens': 92, 'total_tokens': 328, 'input_token_details': {'audio': 0, 'cache_read': 0}, 'output_token_details': {'audio': 0, 'reasoning': 0}})]}\n"
     ]
    }
   ],
   "source": [
    "# 상태 검사\n",
    "state = app.get_state(config)\n",
    "print(\"현재 상태:\", state.values)"
   ]
  },
  {
   "cell_type": "code",
   "execution_count": 35,
   "metadata": {},
   "outputs": [
    {
     "data": {
      "text/plain": [
       "{'messages': [SystemMessage(content='당신은 한화그룹에 대한 정보를 알려주는 도우미입니다.', additional_kwargs={}, response_metadata={}, id='e9ac8790-e0a3-4ea5-8e05-3ebbeea49d7d'),\n",
       "  HumanMessage(content='안녕하세요', additional_kwargs={}, response_metadata={}, id='e700ec12-d12d-4556-a5f2-b9e23aa322d0'),\n",
       "  AIMessage(content='안녕하세요! 한화그룹에 대해 궁금한 점이 있으신가요? 저에게 물어보세요.', additional_kwargs={'refusal': None}, response_metadata={'token_usage': {'completion_tokens': 41, 'prompt_tokens': 41, 'total_tokens': 82, 'completion_tokens_details': {'accepted_prediction_tokens': 0, 'audio_tokens': 0, 'reasoning_tokens': 0, 'rejected_prediction_tokens': 0}, 'prompt_tokens_details': {'audio_tokens': 0, 'cached_tokens': 0}}, 'model_name': 'gpt-3.5-turbo-0125', 'system_fingerprint': None, 'finish_reason': 'stop', 'logprobs': None}, id='run-c5c577a4-17bd-45ee-97d4-644700960dff-0', usage_metadata={'input_tokens': 41, 'output_tokens': 41, 'total_tokens': 82, 'input_token_details': {'audio': 0, 'cache_read': 0}, 'output_token_details': {'audio': 0, 'reasoning': 0}}),\n",
       "  HumanMessage(content='한화그룹은 어디에 있어?', additional_kwargs={}, response_metadata={}, id='ef6e2676-5a13-4b29-8220-89af80f62a73'),\n",
       "  AIMessage(content='한화그룹은 대한민국에 본사를 두고 있습니다. 그러나 한화그룹은 국제적인 기업으로 활동하고 있어 전 세계에 다양한 지사와 사업장을 운영하고 있습니다. 주요한 사업지역으로는 미국, 중국, 일본, 베트남, 인도 등이 있습니다.', additional_kwargs={'refusal': None}, response_metadata={'token_usage': {'completion_tokens': 115, 'prompt_tokens': 102, 'total_tokens': 217, 'completion_tokens_details': {'accepted_prediction_tokens': 0, 'audio_tokens': 0, 'reasoning_tokens': 0, 'rejected_prediction_tokens': 0}, 'prompt_tokens_details': {'audio_tokens': 0, 'cached_tokens': 0}}, 'model_name': 'gpt-3.5-turbo-0125', 'system_fingerprint': None, 'finish_reason': 'stop', 'logprobs': None}, id='run-36ebfdd5-befa-4e0d-8925-4edd60dac242-0', usage_metadata={'input_tokens': 102, 'output_tokens': 115, 'total_tokens': 217, 'input_token_details': {'audio': 0, 'cache_read': 0}, 'output_token_details': {'audio': 0, 'reasoning': 0}}),\n",
       "  HumanMessage(content='한화그룹 창립일은?', additional_kwargs={}, response_metadata={}, id='dd98f9a4-85f5-4a56-b2aa-993f0d286b64'),\n",
       "  AIMessage(content='한화그룹은 1952년에 창립되었습니다. 처음에는 성립 당시의 이름인 \"태안상사\"로 시작했으며, 이후에 한화그룹으로 발전하였습니다. 이후 1958년에 한화그룹으로 상호를 변경하였습니다.', additional_kwargs={'refusal': None}, response_metadata={'token_usage': {'completion_tokens': 92, 'prompt_tokens': 236, 'total_tokens': 328, 'completion_tokens_details': {'accepted_prediction_tokens': 0, 'audio_tokens': 0, 'reasoning_tokens': 0, 'rejected_prediction_tokens': 0}, 'prompt_tokens_details': {'audio_tokens': 0, 'cached_tokens': 0}}, 'model_name': 'gpt-3.5-turbo-0125', 'system_fingerprint': None, 'finish_reason': 'stop', 'logprobs': None}, id='run-bcc6ed99-6f52-4a43-8182-de2cc8a588fb-0', usage_metadata={'input_tokens': 236, 'output_tokens': 92, 'total_tokens': 328, 'input_token_details': {'audio': 0, 'cache_read': 0}, 'output_token_details': {'audio': 0, 'reasoning': 0}}),\n",
       "  HumanMessage(content='내가 뭐에 대해서 물어봤지?', additional_kwargs={}, response_metadata={}, id='c9ceb047-eefb-4579-bc2d-cd7e5e17ea5e'),\n",
       "  AIMessage(content='죄송합니다. 한화그룹의 창립일에 대해 물어보셨군요. 정보가 헷갈려서 정확한 답변을 드리지 못했습니다. 계속해서 궁금한 점이 있으시면 더 자세히 알려드릴 수 있도록 도와드리겠습니다.', additional_kwargs={'refusal': None}, response_metadata={'token_usage': {'completion_tokens': 107, 'prompt_tokens': 351, 'total_tokens': 458, 'completion_tokens_details': {'accepted_prediction_tokens': 0, 'audio_tokens': 0, 'reasoning_tokens': 0, 'rejected_prediction_tokens': 0}, 'prompt_tokens_details': {'audio_tokens': 0, 'cached_tokens': 0}}, 'model_name': 'gpt-3.5-turbo-0125', 'system_fingerprint': None, 'finish_reason': 'stop', 'logprobs': None}, id='run-a5c8a651-809e-4f36-8506-c256b8a50776-0', usage_metadata={'input_tokens': 351, 'output_tokens': 107, 'total_tokens': 458, 'input_token_details': {'audio': 0, 'cache_read': 0}, 'output_token_details': {'audio': 0, 'reasoning': 0}})]}"
      ]
     },
     "execution_count": 35,
     "metadata": {},
     "output_type": "execute_result"
    }
   ],
   "source": [
    "input_data = {\"messages\": [{\"role\": \"user\", \"content\": \"내가 뭐에 대해서 물어봤지?\"}], \"context\": \"\"}\n",
    "app.invoke(input_data, config=config)"
   ]
  },
  {
   "cell_type": "code",
   "execution_count": 36,
   "metadata": {},
   "outputs": [
    {
     "name": "stdout",
     "output_type": "stream",
     "text": [
      "================================\u001b[1m Human Message \u001b[0m=================================\n",
      "\n",
      "현재 회장님은 누구야?\n",
      "==================================\u001b[1m Ai Message \u001b[0m==================================\n",
      "\n",
      "한화그룹의 현재 회장은 권오현 회장입니다. 권오현 회장은 2016년에 한화그룹 회장으로 선임되어 현재까지 그룹을 이끄고 계십니다. 현재 한화그룹은 권오현 회장 아래 다양한 사업을 펼치고 있습니다.\n",
      "================================\u001b[1m Human Message \u001b[0m=================================\n",
      "\n",
      "넌 언제까지 정보를 가지고 답하는거야?\n",
      "==================================\u001b[1m Ai Message \u001b[0m==================================\n",
      "\n",
      "제가 제공하는 정보는 최신이며 정확한 정보를 기반으로 합니다. 하지만 시간이 지남에 따라 변동되는 정보나 새로운 소식에 대해서는 실시간으로 업데이트되지는 않습니다. 따라서 가장 최신 정보를 원하실 경우 해당 기업의 공식 웹사이트나 뉴스 등을 참고하시는 것이 좋습니다. 어떤 도움이 필요하신가요?\n"
     ]
    }
   ],
   "source": [
    "# while 문을 이용해 대화형\n",
    "while True:\n",
    "    query = input('입력: ')\n",
    "    if query == 'q':\n",
    "        break\n",
    "    input_message = HumanMessage(content=query)\n",
    "    for event in app.stream({\"messages\": [input_message]}, config, stream_mode=\"values\"):\n",
    "        event[\"messages\"][-1].pretty_print()   "
   ]
  },
  {
   "cell_type": "markdown",
   "metadata": {},
   "source": [
    "## 비모수적 지식을 추가하기\n",
    "\n",
    "특정 정보에 대한 독점 문서에 접근할 수 있다면 좋을 것입니다.\n",
    "\n",
    "문서를 벡터DB에 임베딩하거나, 검색기를 직접 사용하여 작업을 수행할 수 있다.  \n",
    "-> ConversationalRetrievalChain을 사용하는 벡터 저장소 기반 검색기를 사용\n",
    "\n",
    "한화그룹에 대한 소개가 담긴 pdf 를 로딩해 보자"
   ]
  },
  {
   "cell_type": "code",
   "execution_count": 38,
   "metadata": {},
   "outputs": [
    {
     "name": "stdout",
     "output_type": "stream",
     "text": [
      "Collecting pypdf\n",
      "  Downloading pypdf-5.1.0-py3-none-any.whl.metadata (7.2 kB)\n",
      "Requirement already satisfied: typing_extensions>=4.0 in /home/haiqv/conda/envs/py310/lib/python3.10/site-packages (from pypdf) (4.12.2)\n",
      "Downloading pypdf-5.1.0-py3-none-any.whl (297 kB)\n",
      "Installing collected packages: pypdf\n",
      "Successfully installed pypdf-5.1.0\n"
     ]
    }
   ],
   "source": [
    "!pip install pypdf"
   ]
  },
  {
   "cell_type": "code",
   "execution_count": 39,
   "metadata": {},
   "outputs": [],
   "source": [
    "from langchain_openai import ChatOpenAI, OpenAIEmbeddings\n",
    "from langchain.text_splitter import RecursiveCharacterTextSplitter\n",
    "from langchain.vectorstores import FAISS\n",
    "from langchain.document_loaders import PyPDFLoader\n",
    "\n",
    "import os\n",
    "\n",
    "from dotenv import load_dotenv\n",
    "load_dotenv()\n",
    "\n",
    "text_splitter = RecursiveCharacterTextSplitter(\n",
    "            chunk_size=1500,\n",
    "            chunk_overlap=200\n",
    "        )\n",
    "\n",
    "raw_documents = PyPDFLoader('2024_Hanwha_Profile_Full_Page_KR.pdf').load()\n",
    "documents = text_splitter.split_documents(raw_documents)\n",
    "db = FAISS.from_documents(documents, OpenAIEmbeddings())"
   ]
  },
  {
   "cell_type": "code",
   "execution_count": 44,
   "metadata": {},
   "outputs": [],
   "source": [
    "from langchain.chains import ConversationalRetrievalChain\n",
    "from langchain.memory import ConversationBufferMemory\n",
    "\n",
    "memory = ConversationBufferMemory(\n",
    "            memory_key='chat_history',\n",
    "            return_messages=True\n",
    "        )\n",
    "\n",
    "llm = ChatOpenAI()\n",
    "qa_chain = ConversationalRetrievalChain.from_llm(llm, retriever=db.as_retriever(), memory=memory, verbose=True)\n"
   ]
  },
  {
   "cell_type": "code",
   "execution_count": 45,
   "metadata": {},
   "outputs": [
    {
     "name": "stdout",
     "output_type": "stream",
     "text": [
      "\n",
      "\n",
      "\u001b[1m> Entering new StuffDocumentsChain chain...\u001b[0m\n",
      "\n",
      "\n",
      "\u001b[1m> Entering new LLMChain chain...\u001b[0m\n",
      "Prompt after formatting:\n",
      "\u001b[32;1m\u001b[1;3mSystem: Use the following pieces of context to answer the user's question. \n",
      "If you don't know the answer, just say that you don't know, don't try to make up an answer.\n",
      "----------------\n",
      "당면한 문제에 대한 해답을 사업과 기술을 통해 찾아가고자 합니다. 지속가능한 \n",
      "내일을 위해 오늘 반드시 해야 하는 일은 시간이 걸리더라도 헌신의 자세로 도전하는 \n",
      "것, 그것이 한화가 걸어온 길이며 100년 그 이상의 미래를 향한 지속가능한 길이라고 \n",
      "믿기 때문입니다. \n",
      "지금 이 순간에도 한화는 한화만의 새로운 혁신을 창출하기 위한 대전환의 발걸음을 \n",
      "더욱 크게 내딛고 있습니다. 창립 이후 한결같이 지켜온 신용과 의리의 정신을 \n",
      "바탕으로 한화는 앞으로도 사람, 사회, 지구의 지속가능한 내일을 위한 솔루션을 \n",
      "제공하겠습니다. 한계와 경계를 뛰어넘는 담대한 도전, 지구에서 우주를 아우르는 \n",
      "혁신적 기술, 고객을 향한 헌신으로 인류의 더 풍요로운 미래를 향한 길을 한화가 \n",
      "함께하겠습니다. 회장  김승연 \n",
      "Chairman’s  Message\n",
      "\n",
      "우주의 조약돌은 미래 우주 과학 인재 육성을 위해 한화 스페이스 허브와 KAIST \n",
      "항공우주공학과 교수진이 공동 개발한 중학생 맞춤형 영재 교육 프로그램입니다. \n",
      "KAIST 전담 교수진 및 멘토와 함께 우주에 대한 전문 지식을 배우고 인문학적 \n",
      "상상력을 키우는 과정의 경험형 커리큘럼을 제공합니다. 다양한 분야의 과학계 \n",
      "명사의 강연과 팀프로젝트 수행 및 프로젝트 고도화 캠프 과정 등 6개월간의 \n",
      "다양한 프로그램을 모두 수료한 학생들에게는 카이스트 총장 명의의 수료증과 \n",
      "영재교육원 수강 기회, 전문가의 1:1 진로컨설팅과 해외 유명 과학 시설 탐방의 \n",
      "기회까지 제공되어 우주를 향한 무한한 상상력을 키워 나갈 수 있게 합니다. \n",
      "한화-카이스트 우주의 조약돌 \n",
      "한화는 2016년부터 과학기술에 관심과 재능을 가진 과학영재 학생들을 \n",
      "발굴하고, 이들이 우수한 이공계 인력으로 성장할 수 있도록 \n",
      "‘한화-카이스트 인재양성 프로그램’을 운영해왔습니다. 카이스트 재학생이 \n",
      "멘토가 되어 대전지역 중학교 1~2학년 학생들을 대상으로 온라인과 오프라인을 \n",
      "통해 과학, 수학, 코딩과 소프트웨어 수업 등을 진행합니다. 문화 체험, 사업장 \n",
      "탐방 등의 현장 프로그램도 함께 운영하여 청소년들이 경험의 폭을 넓힐 수 있는 \n",
      "기회도 제공하고 있습니다. 멘토들은 학생들에게 학문적인 도움을 줄 뿐 아니라 \n",
      "정서적인 지원도 펼치며 함께 성장하고 있습니다.\n",
      "한화-카이스트 인재양성 프로그램\n",
      "Hanwha Overview Hanwha Businesses SustainabilityBusiness HighlightsChairman’ s  Message\n",
      " 116\n",
      "\n",
      "Hanwha Overview Hanwha Businesses SustainabilityBusiness HighlightsChairman’ s  Message\n",
      " 043\n",
      "1996 김승연 회장 혁명적 개혁 선언\n",
      " 헝가리 엥도수에즈 부다페스트 은행 인수 \n",
      "1997 천안북일여자고등학교(現 북일여자고등학교) 설립\n",
      " 한화바스프우레탄, 독일 바스프사에 매각\n",
      "1998 FAG 한화베어링 설립 \n",
      " ㈜한화/무역 수출10억불탑 수상\n",
      "1999 한화-대림 자율빅딜 여천NCC 설립\n",
      " 한화이글스 한국시리즈 우승\n",
      " 한화에너지 정유부문 및 한화에너지프라자,  현대정유에 매각\n",
      "2000 동양백화점(現 한화갤러리아타임월드) 인수\n",
      " 그룹 예술의전당 교향악 축제 단독 협찬\n",
      " 제1회 서울세계불꽃축제 개최\n",
      "2001 대덕테크노밸리 설립\n",
      " ㈜한화, 대우전자 방산부문 인수\n",
      "2002 대한생명(現 한화생명) 그룹 편입(인수)\n",
      "2003 FAG 한화베어링, 합작사에 지분 최종 매각 \n",
      "2004 한화L&C(現 한화첨단소재) 베이징 공장 준공 \n",
      "2005 한국종합에너지의 한화 지분, 포스코에 매각 \n",
      " 대한생명(現 한화생명) 뉴욕 현지법인 설립 \n",
      "2006 한화건설(現 ㈜한화 건설 부문) , 사우디아라비아법인 설립 \n",
      " 한화L&C, 미국 앨라배마 현지공장 준공\n",
      " 아산테크노밸리 설립 \n",
      " 한화 인천공장 생산 종료\n",
      " 한화L&C, 상하이 자동차 부품공장 준공 \n",
      "새로운 도약\n",
      "외환위기 속에서 과감한 구조조정으로 활로를 모색했습니다. 수익성 있는 계열사를 \n",
      "매각해 유동성을 확보하는 과정에서도 ‘임직원 전원 고용 보장’을 골자로 한 \n",
      "신용과 의리의 구조조정을 단행, 단 한 건의 파업도 없이 위기를 극복하며 구조조정 \n",
      "모범 기업으로 이름을 올렸습니다. 위기 속에서 새로운 기회를 모색한 한화는 2002년 \n",
      "대한생명(現 한화생명)을 인수해 2023년 말 기준 자산 115조 원의 \n",
      "국내 2위 생명보험사로 탄탄하게 성장시켰습니다.\n",
      "1996-2006\n",
      "\n",
      "투명경영을 실천하기 위해서는 기업의 최고 의사결정기구인 이사회의 균형 있는 선임 방식과 전문적인 역할 규정이 \n",
      "가장 먼저 선행되어야 합니다. 한화의 계열사들은 독립성과 다양성을 기반으로 이사회가 합리적인 의사결정과 창의적인 \n",
      "문제 해결을 수행할 수 있도록 각 사업 분야에 적합한 방식으로 이사회를 구성하고, 운영 방침을 마련해 이를 이해관계자에게 \n",
      "투명하게 공개하고 있습니다. \n",
      "투명경영\n",
      "한화는 다양한 분야에서 전문 지식과 경험을 보유한 \n",
      "사외이사를 선임하여 이사회의 다양성과 전문성을 \n",
      "강화하고 있습니다. 특히 한화솔루션은 글로벌 \n",
      "친환경 에너지 기업으로서 외국인 사외이사가 포함된 \n",
      "다국적 이사회를 운영하고 있으며, \n",
      "㈜한화, 한화에어로스페이스, 한화솔루션, \n",
      "한화생명, 한화투자증권 등 5개 계열사는 \n",
      "여성 사외이사를 선임하여 이사회의 다양성을 \n",
      "확보하였습니다. 선임된 이사들은 기본 임기 2년 \n",
      "동안 전문성과 책임 있는 업무 수행 여부에 대해 \n",
      "종합적인 평가를 정기적으로 받게 되며, 평가 결과에 \n",
      "따라 재선임 여부가 결정되도록 했습니다. \n",
      "이사회 독립성 이사회 다양성과 전문성\n",
      "㈜한화, 한화에어로스페이스, 한화솔루션, \n",
      "한화생명, 한화손해보험, 한화투자증권, \n",
      "한화시스템, 한화오션 등 총 8개 상장사는 \n",
      "지속적으로 경쟁력을 강화하고 공정성·투명성·\n",
      "독립성을 확보하여 상호 견제가 가능한 균형 있는 \n",
      "지배구조 체제를 확립하기 위해 \n",
      "‘기업지배구조헌장’을 제정, 공표하였습니다. \n",
      "기업지배구조헌장에는 건전한 지배구조 확립을 위한 \n",
      "이사회 및 감사위원회의 권한과 책임, 주주, 고객, \n",
      "협력사, 임직원 등 다양한 이해관계자의 권익 보호를 \n",
      "위한 내용이 포함되어 있습니다. 기업지배구조헌장은 \n",
      "국제적인 기업지배구조 관행에 부합하는 원칙과 \n",
      "기준을 세운 것으로, 회사 홈페이지에 게시하여 모든 \n",
      "이해관계자가 열람할 수 있도록 하였습니다. \n",
      "기업지배구조헌장 제정\n",
      "이사회는 회사의 최고 의사결정기구로서 내부 \n",
      "경영진의 감시·감독을 수행하기 때문에 경영진과 \n",
      "지배주주로부터의 독립성이 반드시 보장되어야 \n",
      "합니다. 한화의 7개 상장사는 이사회의 독립성 \n",
      "확보를 위해 이사회의 과반 이상을 사외이사로 \n",
      "선임하고 있으며, 사외이사는 임원후보추천위원회 \n",
      "또는 사외이사후보추천위원회의 추천을 통해 \n",
      "이사회에서 후보자로 선정되며, 최종적으로 \n",
      "주주총회의 의결을 통해 투명하게 선임됩니다. 이에 \n",
      "공정함을 더하기 위해 재직기간이  6년을 초과하는 \n",
      "장기재직 사외이사는 추가적으로 연임할 수 없도록 \n",
      "했으며, 그룹 계열사 출신의 사외이사 또한 선임될 \n",
      "수 없도록 공통 제도를 마련해두고 있습니다. 한편, \n",
      "한화에너지의 경우 비상장사임에도 불구하고 \n",
      "사외이사 2인을 이사회 (이사의 수 총 5명)에 포함해 \n",
      "지배구조에 투명성을 더하고 있습니다.\n",
      "Hanwha Overview Hanwha Businesses SustainabilityBusiness HighlightsChairman’ s  Message\n",
      " 121\n",
      "Human: 현재 회장은 누구야?\u001b[0m\n",
      "\n",
      "\u001b[1m> Finished chain.\u001b[0m\n",
      "\n",
      "\u001b[1m> Finished chain.\u001b[0m\n"
     ]
    },
    {
     "data": {
      "text/plain": [
       "{'question': '현재 회장은 누구야?',\n",
       " 'chat_history': [HumanMessage(content='현재 회장은 누구야?', additional_kwargs={}, response_metadata={}),\n",
       "  AIMessage(content='현재 회장은 김승연입니다.', additional_kwargs={}, response_metadata={})],\n",
       " 'answer': '현재 회장은 김승연입니다.'}"
      ]
     },
     "execution_count": 45,
     "metadata": {},
     "output_type": "execute_result"
    }
   ],
   "source": [
    "qa_chain.invoke({'question':'현재 회장은 누구야?'})"
   ]
  },
  {
   "cell_type": "code",
   "execution_count": 46,
   "metadata": {},
   "outputs": [
    {
     "name": "stdout",
     "output_type": "stream",
     "text": [
      "\n",
      "\n",
      "\u001b[1m> Entering new LLMChain chain...\u001b[0m\n",
      "Prompt after formatting:\n",
      "\u001b[32;1m\u001b[1;3mGiven the following conversation and a follow up question, rephrase the follow up question to be a standalone question, in its original language.\n",
      "\n",
      "Chat History:\n",
      "\n",
      "Human: 현재 회장은 누구야?\n",
      "Assistant: 현재 회장은 김승연입니다.\n",
      "Follow Up Input: 로마에 여행을 가려고 해. 하루동안 볼 수 있는 장소를 추천해줘.\n",
      "Standalone question:\u001b[0m\n",
      "\n",
      "\u001b[1m> Finished chain.\u001b[0m\n",
      "\n",
      "\n",
      "\u001b[1m> Entering new StuffDocumentsChain chain...\u001b[0m\n",
      "\n",
      "\n",
      "\u001b[1m> Entering new LLMChain chain...\u001b[0m\n",
      "Prompt after formatting:\n",
      "\u001b[32;1m\u001b[1;3mSystem: Use the following pieces of context to answer the user's question. \n",
      "If you don't know the answer, just say that you don't know, don't try to make up an answer.\n",
      "----------------\n",
      "프리미엄 리조트에서 즐기는 완벽한 휴식\n",
      "국내 최고의 프리미엄 종합 레저 서비스 기업인 한화호텔&리조트는 국내외의 다양한 리조트와 레저 \n",
      "시설을 통해 고객의 삶에 휴식과 여유를 제공합니다. 특히 2018년에 오픈한 ‘거제 벨버디어’는 아름다운 \n",
      "자연 속에서 여유로운 휴식을 즐길 수 있는 고급 해양 마리나 리조트로 사랑받고 있습니다. 모든 객실에서 \n",
      "조망할 수 있는 남해의 아름다움에 벨버디어만의 차별화된 디자인과 고품격 서비스를 더해 가장 완벽한 \n",
      "휴식을 선사합니다. 또한 설악리조트 부지를 활용한 신규 프리미엄 복합리조트 사업 등 레저산업 노하우를 \n",
      "기반으로 사업영역을 지속 확대해 나갈 계획입니다. 이를 통해 명실상부한 국민 레저기업으로서의 입지를 \n",
      "더욱 공고히 해 나갈 것입니다. 한편, 한화솔루션 인사이트 부문은 프리미엄 라이프스타일 플랫폼 사업의 \n",
      "일환으로 럭셔리 홈앤호스피털리티 브랜드 ‘무와(MUWA)’를 론칭했습니다. ‘무와’는 국내외 도심과 \n",
      "휴양지에 베케이션 홈, 프라이빗 빌라, 레지던스 등 다양한 형태의 프리미엄 공간과 콘텐츠를 제공하여 \n",
      "특별한 경험과 지속가능한 가치를 전달하고자 하며, 그 첫 컬렉션으로 2023년 12월 일본 홋카이도현에 \n",
      "‘무와 니세코’를 오픈했습니다. \n",
      "FINE STAYS, SPECIAL  \n",
      "DESTINATION\n",
      "거제 벨버디어 무와 니세코\n",
      "Hanwha Overview Hanwha Businesses SustainabilityBusiness HighlightsChairman’ s  Message 032\n",
      "\n",
      "즐거움과 편안함이 조화된 특별한 경험\n",
      "글로벌 럭셔리 부티크 호텔 가운데 하나로 손꼽히고 있는 ‘더 플라자’는 서울의 심장부에 위치한 특급 호텔입니다. \n",
      "세련된 디자인과 완벽한 서비스, 다양한 부대시설을 갖춘 최고급 호텔로, 국내 최초로  메리어트 인터내셔널의 \n",
      "프리미엄 포트폴리오인 오토그래프 컬렉션에 가입해 보다 차별화된 경험을 선사합니다. 2020년에는 휴양형 \n",
      "프리미엄 호텔 ‘여수 벨메르’를 오픈하여, 아름다운 바다에서의 완벽한 휴식을 제공하고 있습니다. 또한 \n",
      "2022년에는 라이프스타일 호텔 브랜드 ‘마티에’를 새롭게 론칭했습니다. 마티에는 트렌디한 스타일과 \n",
      "디지털 기술을 도입해 MZ세대에게 새로운 영감을 제공하고 있습니다. \n",
      "LUXURY BOUTIQUE  \n",
      "HOTEL\n",
      "여수 벨메르 \n",
      "더 플라자 \n",
      "Hanwha Overview Hanwha Businesses SustainabilityBusiness HighlightsChairman’ s  Message 031\n",
      "\n",
      "협업 시너지로 식음 서비스의 품질을 높이고 운영 효율을 제고하는 데 적극 노력할 \n",
      "계획입니다. \n",
      "한화호텔&리조트\n",
      "www.hwrc.co.kr\n",
      "사업 영역\n",
      "호스피탈리티 부문:   리조트, 호텔, 레저\n",
      "에스테이트 부문:   부동산 종합 서비스 \n",
      "2023 매출액 \n",
      "7, 32 3억 원 \n",
      "2023 자산총액 \n",
      "27,9 6 6억 원 \n",
      "더 플라자\n",
      "Retail & Services\n",
      "\n",
      "도시의 새로운 랜드마크를 창조하는 글로벌 인프라 디벨로퍼 \n",
      "한화는 주거, 업무, 문화, 여가, 상업 등 다양한 용도의 시설을 도시계획과 연계하여 복합개발사업 분야의 \n",
      "입지를 더욱 공고히 해 나갈 것입니다. ㈜한화 건설 부문은 2021년 광교MICE 복합단지, 2023년 인스파이어 \n",
      "엔터테인먼트 복합리조트 사업을 성공적으로 완료하며 복합개발 역량을 입증했습니다. 2021년에는 잠실 \n",
      "스포츠·MICE 복합공간 조성 민간투자 사업의 우선협상 대상자로 선정되어, 잠실종합운동장 일대 약 35만㎡의 \n",
      "부지에 복합단지를 건설함으로써 이 지역을 문화, 스포츠, 이벤트가 융합된 서울의 새로운 문화·비즈니스 \n",
      "중심지로 조성할 계획입니다. 이와 더불어 서울역 북부역세권, 대전역, 수서역 등 주요 교통 요충지에 MICE \n",
      "시설, 호텔, 오피스, 쇼핑센터 등을 복합 개발함으로써 국내 최고의 디벨로퍼형 건설사로서의 차별화된 역량을 \n",
      "지속적으로 강화해 나갈 계획입니다. \n",
      "COMPLEX  \n",
      "DEVELOPMENT  \n",
      "수원 MICE 복합단지\n",
      "Hanwha Overview Hanwha Businesses SustainabilityBusiness HighlightsChairman’ s  Message 029\n",
      "Human: 로마에 여행을 가려고 해요?\u001b[0m\n",
      "\n",
      "\u001b[1m> Finished chain.\u001b[0m\n",
      "\n",
      "\u001b[1m> Finished chain.\u001b[0m\n"
     ]
    },
    {
     "data": {
      "text/plain": [
       "{'question': '로마에 여행을 가려고 해. 하루동안 볼 수 있는 장소를 추천해줘.',\n",
       " 'chat_history': [HumanMessage(content='현재 회장은 누구야?', additional_kwargs={}, response_metadata={}),\n",
       "  AIMessage(content='현재 회장은 김승연입니다.', additional_kwargs={}, response_metadata={}),\n",
       "  HumanMessage(content='로마에 여행을 가려고 해. 하루동안 볼 수 있는 장소를 추천해줘.', additional_kwargs={}, response_metadata={}),\n",
       "  AIMessage(content='죄송합니다, 그 정보와는 무관한 내용이라서 답변을 드릴 수 없습니다.', additional_kwargs={}, response_metadata={})],\n",
       " 'answer': '죄송합니다, 그 정보와는 무관한 내용이라서 답변을 드릴 수 없습니다.'}"
      ]
     },
     "execution_count": 46,
     "metadata": {},
     "output_type": "execute_result"
    }
   ],
   "source": [
    "qa_chain.invoke({'question':'로마에 여행을 가려고 해. 하루동안 볼 수 있는 장소를 추천해줘.'})"
   ]
  },
  {
   "cell_type": "markdown",
   "metadata": {},
   "source": [
    "### 이러한 구성은 제공된 문서만 살펴보는 한계가 있다.\n",
    "\n",
    "봇이 모수적 지식도 활용하게 하려면 어떻게 해야 할까?  \n",
    "-> 에이전트 화 해야 한다.\n",
    "\n",
    "이는 LLM의 추론 기능을 활용하여 정해진 순서 없이 사용 가능한 도구를 조율하고 호출하는 대신 사용자의 질이에 따라 가장 적합한 방식을 따르는 것을 의미한다."
   ]
  },
  {
   "cell_type": "code",
   "execution_count": 47,
   "metadata": {},
   "outputs": [],
   "source": [
    "from langchain.tools.retriever import create_retriever_tool\n",
    "from langchain.memory import ConversationBufferMemory\n",
    "from langchain.agents.agent_toolkits import create_conversational_retrieval_agent\n",
    "from langchain_openai import ChatOpenAI\n",
    "\n",
    "llm = ChatOpenAI(model=\"gpt-4o-mini\", temperature=0)\n",
    "\n",
    "tool = create_retriever_tool(\n",
    "    db.as_retriever(), \n",
    "    \"hanwha_travel\",\n",
    "    \"한화 그룹에 관한 문서를 검색해서 반환합니다.\"\n",
    ")\n",
    "tools = [tool]\n",
    "\n",
    "memory = ConversationBufferMemory(\n",
    "    memory_key='chat_history',\n",
    "    return_messages=True,\n",
    "    llm=llm\n",
    ")\n",
    "\n",
    "agent_executor = create_conversational_retrieval_agent(\n",
    "    llm, \n",
    "    tools, \n",
    "    memory_key='chat_history', \n",
    "    verbose=True\n",
    ")"
   ]
  },
  {
   "cell_type": "code",
   "execution_count": 48,
   "metadata": {},
   "outputs": [
    {
     "name": "stdout",
     "output_type": "stream",
     "text": [
      "\n",
      "\n",
      "\u001b[1m> Entering new AgentExecutor chain...\u001b[0m\n",
      "\u001b[32;1m\u001b[1;3m안녕하세요! 어떻게 도와드릴까요?\u001b[0m\n",
      "\n",
      "\u001b[1m> Finished chain.\u001b[0m\n"
     ]
    },
    {
     "data": {
      "text/plain": [
       "{'input': '안녕하세요',\n",
       " 'chat_history': [HumanMessage(content='안녕하세요', additional_kwargs={}, response_metadata={}),\n",
       "  AIMessage(content='안녕하세요! 어떻게 도와드릴까요?', additional_kwargs={}, response_metadata={})],\n",
       " 'output': '안녕하세요! 어떻게 도와드릴까요?',\n",
       " 'intermediate_steps': []}"
      ]
     },
     "execution_count": 48,
     "metadata": {},
     "output_type": "execute_result"
    }
   ],
   "source": [
    "agent_executor.invoke({\"input\": \"안녕하세요\"})"
   ]
  },
  {
   "cell_type": "code",
   "execution_count": 49,
   "metadata": {},
   "outputs": [
    {
     "name": "stdout",
     "output_type": "stream",
     "text": [
      "\n",
      "\n",
      "\u001b[1m> Entering new AgentExecutor chain...\u001b[0m\n",
      "\u001b[32;1m\u001b[1;3m\n",
      "Invoking: `hanwha_travel` with `{'query': '한화그룹 회장'}`\n",
      "\n",
      "\n",
      "\u001b[0m\u001b[36;1m\u001b[1;3m한화의 \n",
      "인재경영 활동\n",
      "한화그룹\n",
      "안식월\n",
      "한화그룹\n",
      "아빠휴가\n",
      "한화솔루션 큐셀 부문\n",
      "근무환경 개선 및 일자리 창출\n",
      "한화그룹\n",
      "자기개발 휴직\n",
      "한화솔루션 케미칼 부문\n",
      "일하기 좋은 기업 인증, \n",
      "여성친화기업, HR 핫라인 조성\n",
      "한화첨단소재\n",
      "조직문화 활성화, 가족친화 인증 획득,\n",
      "소통위원회 운영,\n",
      "신입사원 해외법인 연수 \n",
      "한화생명\n",
      "인권 정책 기반 인권 교육 진행, 인권 \n",
      "영향평가 시행,  임직원 안전보건 \n",
      "기본방침 수립\n",
      "㈜한화 건설 부문\n",
      "임직원 복리후생 \n",
      "제도 개선, \n",
      "코로나19 확산에 따른 \n",
      "임직원 지원\n",
      "한화시스템 한화오션\n",
      "2021년, 2023년 \n",
      "일자리 으뜸기업 선정\n",
      "청년이사회 운영\n",
      "한화자산운용\n",
      "2021년 일자리 으뜸기업 선정\n",
      "한화에어로스페이스\n",
      "직장내 괴롭힘, 성희롱 방지를 위한 \n",
      "시스템 구축\n",
      "Hanwha Overview Hanwha Businesses SustainabilityBusiness HighlightsChairman’ s  Message\n",
      " 110\n",
      "\n",
      "한화는 구성원들이 일과 삶의 균형을 통해 업무와 \n",
      "생활 모두에 집중할 수 있는 유연한 조직문화를 \n",
      "만들기 위해 다양한 제도를 운영하고 있습니다. \n",
      "근무 형태와 시간을 자유롭게 선택할 수 있는 \n",
      "‘유연근무제’와 함께 한 달 휴가를 제공하는 \n",
      "‘안식월’, 배우자 출산 후 3개월 이내 남성 직원의 \n",
      "1개월 휴가 사용을 의무화하는 ‘아빠휴가’, \n",
      "자기개발을 위한 ‘채움 휴직’ 등의 휴가 제도를 \n",
      "시행하고 있습니다. 이와 더불어 계열사별로 사업의 \n",
      "특성에 맞춰 차별화된 복지 제도를 운영 중입니다. \n",
      "한화는 구성원의 안전하고 건강한 근무환경을 \n",
      "조성하고 지역사회로부터 신뢰받을 수 있도록 \n",
      "안전문화 구축에도 역량을 집중하고 있습니다. \n",
      "산업 재해와 안전사고 예방을 위해 안전 규정과 \n",
      "안전 수칙을 제정, 시행하고 정기적인 안전 점검과 \n",
      "안전 교육을 실시하는 한편 비상 상황에 대비한 \n",
      "훈련을 강화하는 등 안전문화 정착에 최선을 다하고 \n",
      "있습니다. \n",
      "체계적인 우수 인재 육성 유연하고 건강한 조직문화 조성\n",
      "한화는 UN글로벌콤팩트 10대 원칙을 비롯한 \n",
      "국내외의 인권정책을 적극 지지하고 준수하며, \n",
      "성별· 인종·국적·출신·종교 등에 대한 차별을 \n",
      "금지하고 다양성을 존중합니다. 성희롱, 직장 내 \n",
      "괴롭힘 등을 방지하고 인권 의식을 함양하기 위해 \n",
      "전 구성원을 대상으로 인권 교육을 시행하고 있으며, \n",
      "인권 리스크의 사전 예방을 위한 인권 영향평가도 \n",
      "정기적으로 실시하고 있습니다. 또한 한화솔루션 \n",
      "케미칼 부문의 ‘핫라인’, 한화에어로스페이스의 \n",
      "‘스마트고충처리센터’ 등 직장 생활의 고충을 처리할 \n",
      "수 있는 고충처리 시스템을 구축해 상담을 통한 고충 \n",
      "해결과 재발 방지에 힘쓰고 있습니다. 아울러 모성 \n",
      "보호 제도, 가족친화기업 인증 등 다양한 가족친화 \n",
      "제도를 운영하여 여성이 일하기 좋은 직장을 \n",
      "만들어가고 있습니다. \n",
      "구성원의 인권과 다양성 존중\n",
      "한화는 100년 한화를 이끌어갈 우수 인재의 영입과 \n",
      "육성을 위해 과감한 투자와 합리적인 인사 제도 \n",
      "구축에 힘쓰고 있습니다. 특히 역할별·직무별로 \n",
      "체계적이고 다양한 교육 프로그램을 운영해 글로벌 \n",
      "경쟁력을 갖춘 인재를 육성하는 데 주력하고 \n",
      "있습니다. 그룹 전체 신입사원을 대상으로 하는 \n",
      "‘HPMP(Hanwha Pre Manager Program)’\n",
      "를 통해 신입사원에게 필요한 직무역량 교육, \n",
      "로열티 제고 프로그램 등을 제공하고, 팀장급을 \n",
      "대상으로 하는 ‘EMBA’, 임원급을 대상으로 하는 \n",
      "‘AMP(Advanced Management Program, 국내외 \n",
      "유수의 최고경영자과정)’를 통해 그룹 최고경영자 \n",
      "육성을 위한 교육 기회를 체계적으로 지원합니다.  \n",
      "글로벌 인재 육성을 위해서는 글로벌 역량과 \n",
      "자기계발 의지가 뛰어난 인력을 선발하여 글로벌 \n",
      "사업수행역량 교육과 해외 파견근무 기회를 제공하는 \n",
      "‘Global Talent Program’과 우수 인재를 해외 \n",
      "전략지역에 파견하여 해외 사업을 주도할 전문가로 \n",
      "양성하는 ‘지역전문가제도’ 등을 운영하고 있습니다.\n",
      "\n",
      "창의적이고 열정적인 인재는 한화의 발전과 성공의 기반이며 향후 지속 성장의 원동력입니다. 한화는 모든 구성원이 공정하고 \n",
      "합리적인 인사·육성 제도를 통해 ‘도전·헌신·정도’ 의 핵심가치를 내재한 글로벌 인재로 성장할 수 있도록 핵심 역량을 키워나가고 \n",
      "있습니다. 또한 구성원들이 일과 삶의 균형 속에서 성장하고 행복할 수 있도록 개개인의 인권과 다양성을 존중할 뿐 아니라 유연한 \n",
      "조직문화와 건강한 근무환경을 조성하고 있습니다.\n",
      "인재경영\n",
      "도전하고 헌신하며 정도를 지키는 인재\n",
      "한화가 추구하는 인재상은 구성원이 반드시 갖춰야 \n",
      "할 도전·헌신·정도의 핵심가치에  부합하고 이에 \n",
      "따른 행동 원칙을 실천하는 사람입니다. ‘기존의 틀에 \n",
      "안주하지 않고 변화와 혁신을 통해 최고를 추구하는 \n",
      "도전적인 인재’, ‘회사, 고객, 동료와의 인연을 \n",
      "소중히 여기며 보다 큰 목표를 위해 혼신의 힘을 \n",
      "다하는 인재’ 그리고 ‘자긍심을 바탕으로 원칙에 \n",
      "따라 바르고 공정하게 행동하는 인재’를 발굴하고 \n",
      "육성하기 위해 노력하고 있습니다. \n",
      "한화 인재상\n",
      "도전\n",
      "도전(Challenge)하는 사람\n",
      "기존의 틀에 안주하지 않고 \n",
      "변화와 혁신을 통해 \n",
      "최고를 추구한다.\n",
      "• 맡은 분야에서 최고가 되기 위해 \n",
      "적극적인 자기개발을 한다.\n",
      "• 열린 사고와 창의적 발상으로 새로운 \n",
      "방안과 기회를 찾아낸다.\n",
      "• 할 수 있다는 자신감으로 도전적인 \n",
      "목표를 설정하고 달성한다.\n",
      "헌신 \n",
      "헌신(Dedication) 하는 사람\n",
      "회사, 고객, 동료와의 인연을 \n",
      "소중히 여기며  보다 큰 목표를 위해 \n",
      "혼신의 힘을 다한다.\n",
      "• 우리를 먼저 생각하며 공동의 목표를 \n",
      "최우선 한다.\n",
      "• 고객과의 약속을 소중히 여기며 \n",
      "고객가치를 지속적으로 창출한다.\n",
      "• 공동운명체의식을 바탕으로, 서로의 \n",
      "가능성을 믿고 협력한다.\n",
      "정도 \n",
      "정도(Integrity)를 지키는 사람\n",
      "자긍심을 바탕으로 \n",
      "원칙에 따라 \n",
      "바르고 공정하게 행동한다.\n",
      "• 눈 앞의 이익에 흔들리지 않고 원칙에 \n",
      "따라 정직하게 행동한다.\n",
      "• 공과 사를 구분하여 능력과 성과에 \n",
      "따라 투명하고 공정하게 대우한다.\n",
      "Hanwha Overview Hanwha Businesses SustainabilityBusiness HighlightsChairman’ s  Message\n",
      " 108\n",
      "\n",
      "투명경영을 실천하기 위해서는 기업의 최고 의사결정기구인 이사회의 균형 있는 선임 방식과 전문적인 역할 규정이 \n",
      "가장 먼저 선행되어야 합니다. 한화의 계열사들은 독립성과 다양성을 기반으로 이사회가 합리적인 의사결정과 창의적인 \n",
      "문제 해결을 수행할 수 있도록 각 사업 분야에 적합한 방식으로 이사회를 구성하고, 운영 방침을 마련해 이를 이해관계자에게 \n",
      "투명하게 공개하고 있습니다. \n",
      "투명경영\n",
      "한화는 다양한 분야에서 전문 지식과 경험을 보유한 \n",
      "사외이사를 선임하여 이사회의 다양성과 전문성을 \n",
      "강화하고 있습니다. 특히 한화솔루션은 글로벌 \n",
      "친환경 에너지 기업으로서 외국인 사외이사가 포함된 \n",
      "다국적 이사회를 운영하고 있으며, \n",
      "㈜한화, 한화에어로스페이스, 한화솔루션, \n",
      "한화생명, 한화투자증권 등 5개 계열사는 \n",
      "여성 사외이사를 선임하여 이사회의 다양성을 \n",
      "확보하였습니다. 선임된 이사들은 기본 임기 2년 \n",
      "동안 전문성과 책임 있는 업무 수행 여부에 대해 \n",
      "종합적인 평가를 정기적으로 받게 되며, 평가 결과에 \n",
      "따라 재선임 여부가 결정되도록 했습니다. \n",
      "이사회 독립성 이사회 다양성과 전문성\n",
      "㈜한화, 한화에어로스페이스, 한화솔루션, \n",
      "한화생명, 한화손해보험, 한화투자증권, \n",
      "한화시스템, 한화오션 등 총 8개 상장사는 \n",
      "지속적으로 경쟁력을 강화하고 공정성·투명성·\n",
      "독립성을 확보하여 상호 견제가 가능한 균형 있는 \n",
      "지배구조 체제를 확립하기 위해 \n",
      "‘기업지배구조헌장’을 제정, 공표하였습니다. \n",
      "기업지배구조헌장에는 건전한 지배구조 확립을 위한 \n",
      "이사회 및 감사위원회의 권한과 책임, 주주, 고객, \n",
      "협력사, 임직원 등 다양한 이해관계자의 권익 보호를 \n",
      "위한 내용이 포함되어 있습니다. 기업지배구조헌장은 \n",
      "국제적인 기업지배구조 관행에 부합하는 원칙과 \n",
      "기준을 세운 것으로, 회사 홈페이지에 게시하여 모든 \n",
      "이해관계자가 열람할 수 있도록 하였습니다. \n",
      "기업지배구조헌장 제정\n",
      "이사회는 회사의 최고 의사결정기구로서 내부 \n",
      "경영진의 감시·감독을 수행하기 때문에 경영진과 \n",
      "지배주주로부터의 독립성이 반드시 보장되어야 \n",
      "합니다. 한화의 7개 상장사는 이사회의 독립성 \n",
      "확보를 위해 이사회의 과반 이상을 사외이사로 \n",
      "선임하고 있으며, 사외이사는 임원후보추천위원회 \n",
      "또는 사외이사후보추천위원회의 추천을 통해 \n",
      "이사회에서 후보자로 선정되며, 최종적으로 \n",
      "주주총회의 의결을 통해 투명하게 선임됩니다. 이에 \n",
      "공정함을 더하기 위해 재직기간이  6년을 초과하는 \n",
      "장기재직 사외이사는 추가적으로 연임할 수 없도록 \n",
      "했으며, 그룹 계열사 출신의 사외이사 또한 선임될 \n",
      "수 없도록 공통 제도를 마련해두고 있습니다. 한편, \n",
      "한화에너지의 경우 비상장사임에도 불구하고 \n",
      "사외이사 2인을 이사회 (이사의 수 총 5명)에 포함해 \n",
      "지배구조에 투명성을 더하고 있습니다.\n",
      "Hanwha Overview Hanwha Businesses SustainabilityBusiness HighlightsChairman’ s  Message\n",
      " 121\u001b[0m\u001b[32;1m\u001b[1;3m한화그룹의 회장은 김승연입니다. 추가로 궁금한 점이 있으시면 말씀해 주세요!\u001b[0m\n",
      "\n",
      "\u001b[1m> Finished chain.\u001b[0m\n"
     ]
    },
    {
     "data": {
      "text/plain": [
       "{'input': '한화그룹 회장은 누구야?',\n",
       " 'chat_history': [AIMessage(content='한화그룹의 회장은 김승연입니다. 추가로 궁금한 점이 있으시면 말씀해 주세요!', additional_kwargs={}, response_metadata={})],\n",
       " 'output': '한화그룹의 회장은 김승연입니다. 추가로 궁금한 점이 있으시면 말씀해 주세요!',\n",
       " 'intermediate_steps': [(AgentActionMessageLog(tool='hanwha_travel', tool_input={'query': '한화그룹 회장'}, log=\"\\nInvoking: `hanwha_travel` with `{'query': '한화그룹 회장'}`\\n\\n\\n\", message_log=[AIMessage(content='', additional_kwargs={'function_call': {'arguments': '{\"query\":\"한화그룹 회장\"}', 'name': 'hanwha_travel'}, 'refusal': None}, response_metadata={'token_usage': {'completion_tokens': 22, 'prompt_tokens': 115, 'total_tokens': 137, 'completion_tokens_details': {'accepted_prediction_tokens': 0, 'audio_tokens': 0, 'reasoning_tokens': 0, 'rejected_prediction_tokens': 0}, 'prompt_tokens_details': {'audio_tokens': 0, 'cached_tokens': 0}}, 'model_name': 'gpt-4o-mini-2024-07-18', 'system_fingerprint': 'fp_d02d531b47', 'finish_reason': 'function_call', 'logprobs': None}, id='run-3a4bbd51-58bc-4994-a17a-ed69a6d3901a-0', usage_metadata={'input_tokens': 115, 'output_tokens': 22, 'total_tokens': 137, 'input_token_details': {'audio': 0, 'cache_read': 0}, 'output_token_details': {'audio': 0, 'reasoning': 0}})]),\n",
       "   '한화의 \\n인재경영 활동\\n한화그룹\\n안식월\\n한화그룹\\n아빠휴가\\n한화솔루션 큐셀 부문\\n근무환경 개선 및 일자리 창출\\n한화그룹\\n자기개발 휴직\\n한화솔루션 케미칼 부문\\n일하기 좋은 기업 인증, \\n여성친화기업, HR 핫라인 조성\\n한화첨단소재\\n조직문화 활성화, 가족친화 인증 획득,\\n소통위원회 운영,\\n신입사원 해외법인 연수 \\n한화생명\\n인권 정책 기반 인권 교육 진행, 인권 \\n영향평가 시행,  임직원 안전보건 \\n기본방침 수립\\n㈜한화 건설 부문\\n임직원 복리후생 \\n제도 개선, \\n코로나19 확산에 따른 \\n임직원 지원\\n한화시스템 한화오션\\n2021년, 2023년 \\n일자리 으뜸기업 선정\\n청년이사회 운영\\n한화자산운용\\n2021년 일자리 으뜸기업 선정\\n한화에어로스페이스\\n직장내 괴롭힘, 성희롱 방지를 위한 \\n시스템 구축\\nHanwha Overview Hanwha Businesses SustainabilityBusiness HighlightsChairman’ s  Message\\n 110\\n\\n한화는 구성원들이 일과 삶의 균형을 통해 업무와 \\n생활 모두에 집중할 수 있는 유연한 조직문화를 \\n만들기 위해 다양한 제도를 운영하고 있습니다. \\n근무 형태와 시간을 자유롭게 선택할 수 있는 \\n‘유연근무제’와 함께 한 달 휴가를 제공하는 \\n‘안식월’, 배우자 출산 후 3개월 이내 남성 직원의 \\n1개월 휴가 사용을 의무화하는 ‘아빠휴가’, \\n자기개발을 위한 ‘채움 휴직’ 등의 휴가 제도를 \\n시행하고 있습니다. 이와 더불어 계열사별로 사업의 \\n특성에 맞춰 차별화된 복지 제도를 운영 중입니다. \\n한화는 구성원의 안전하고 건강한 근무환경을 \\n조성하고 지역사회로부터 신뢰받을 수 있도록 \\n안전문화 구축에도 역량을 집중하고 있습니다. \\n산업 재해와 안전사고 예방을 위해 안전 규정과 \\n안전 수칙을 제정, 시행하고 정기적인 안전 점검과 \\n안전 교육을 실시하는 한편 비상 상황에 대비한 \\n훈련을 강화하는 등 안전문화 정착에 최선을 다하고 \\n있습니다. \\n체계적인 우수 인재 육성 유연하고 건강한 조직문화 조성\\n한화는 UN글로벌콤팩트 10대 원칙을 비롯한 \\n국내외의 인권정책을 적극 지지하고 준수하며, \\n성별· 인종·국적·출신·종교 등에 대한 차별을 \\n금지하고 다양성을 존중합니다. 성희롱, 직장 내 \\n괴롭힘 등을 방지하고 인권 의식을 함양하기 위해 \\n전 구성원을 대상으로 인권 교육을 시행하고 있으며, \\n인권 리스크의 사전 예방을 위한 인권 영향평가도 \\n정기적으로 실시하고 있습니다. 또한 한화솔루션 \\n케미칼 부문의 ‘핫라인’, 한화에어로스페이스의 \\n‘스마트고충처리센터’ 등 직장 생활의 고충을 처리할 \\n수 있는 고충처리 시스템을 구축해 상담을 통한 고충 \\n해결과 재발 방지에 힘쓰고 있습니다. 아울러 모성 \\n보호 제도, 가족친화기업 인증 등 다양한 가족친화 \\n제도를 운영하여 여성이 일하기 좋은 직장을 \\n만들어가고 있습니다. \\n구성원의 인권과 다양성 존중\\n한화는 100년 한화를 이끌어갈 우수 인재의 영입과 \\n육성을 위해 과감한 투자와 합리적인 인사 제도 \\n구축에 힘쓰고 있습니다. 특히 역할별·직무별로 \\n체계적이고 다양한 교육 프로그램을 운영해 글로벌 \\n경쟁력을 갖춘 인재를 육성하는 데 주력하고 \\n있습니다. 그룹 전체 신입사원을 대상으로 하는 \\n‘HPMP(Hanwha Pre Manager Program)’\\n를 통해 신입사원에게 필요한 직무역량 교육, \\n로열티 제고 프로그램 등을 제공하고, 팀장급을 \\n대상으로 하는 ‘EMBA’, 임원급을 대상으로 하는 \\n‘AMP(Advanced Management Program, 국내외 \\n유수의 최고경영자과정)’를 통해 그룹 최고경영자 \\n육성을 위한 교육 기회를 체계적으로 지원합니다.  \\n글로벌 인재 육성을 위해서는 글로벌 역량과 \\n자기계발 의지가 뛰어난 인력을 선발하여 글로벌 \\n사업수행역량 교육과 해외 파견근무 기회를 제공하는 \\n‘Global Talent Program’과 우수 인재를 해외 \\n전략지역에 파견하여 해외 사업을 주도할 전문가로 \\n양성하는 ‘지역전문가제도’ 등을 운영하고 있습니다.\\n\\n창의적이고 열정적인 인재는 한화의 발전과 성공의 기반이며 향후 지속 성장의 원동력입니다. 한화는 모든 구성원이 공정하고 \\n합리적인 인사·육성 제도를 통해 ‘도전·헌신·정도’ 의 핵심가치를 내재한 글로벌 인재로 성장할 수 있도록 핵심 역량을 키워나가고 \\n있습니다. 또한 구성원들이 일과 삶의 균형 속에서 성장하고 행복할 수 있도록 개개인의 인권과 다양성을 존중할 뿐 아니라 유연한 \\n조직문화와 건강한 근무환경을 조성하고 있습니다.\\n인재경영\\n도전하고 헌신하며 정도를 지키는 인재\\n한화가 추구하는 인재상은 구성원이 반드시 갖춰야 \\n할 도전·헌신·정도의 핵심가치에  부합하고 이에 \\n따른 행동 원칙을 실천하는 사람입니다. ‘기존의 틀에 \\n안주하지 않고 변화와 혁신을 통해 최고를 추구하는 \\n도전적인 인재’, ‘회사, 고객, 동료와의 인연을 \\n소중히 여기며 보다 큰 목표를 위해 혼신의 힘을 \\n다하는 인재’ 그리고 ‘자긍심을 바탕으로 원칙에 \\n따라 바르고 공정하게 행동하는 인재’를 발굴하고 \\n육성하기 위해 노력하고 있습니다. \\n한화 인재상\\n도전\\n도전(Challenge)하는 사람\\n기존의 틀에 안주하지 않고 \\n변화와 혁신을 통해 \\n최고를 추구한다.\\n• 맡은 분야에서 최고가 되기 위해 \\n적극적인 자기개발을 한다.\\n• 열린 사고와 창의적 발상으로 새로운 \\n방안과 기회를 찾아낸다.\\n• 할 수 있다는 자신감으로 도전적인 \\n목표를 설정하고 달성한다.\\n헌신 \\n헌신(Dedication) 하는 사람\\n회사, 고객, 동료와의 인연을 \\n소중히 여기며  보다 큰 목표를 위해 \\n혼신의 힘을 다한다.\\n• 우리를 먼저 생각하며 공동의 목표를 \\n최우선 한다.\\n• 고객과의 약속을 소중히 여기며 \\n고객가치를 지속적으로 창출한다.\\n• 공동운명체의식을 바탕으로, 서로의 \\n가능성을 믿고 협력한다.\\n정도 \\n정도(Integrity)를 지키는 사람\\n자긍심을 바탕으로 \\n원칙에 따라 \\n바르고 공정하게 행동한다.\\n• 눈 앞의 이익에 흔들리지 않고 원칙에 \\n따라 정직하게 행동한다.\\n• 공과 사를 구분하여 능력과 성과에 \\n따라 투명하고 공정하게 대우한다.\\nHanwha Overview Hanwha Businesses SustainabilityBusiness HighlightsChairman’ s  Message\\n 108\\n\\n투명경영을 실천하기 위해서는 기업의 최고 의사결정기구인 이사회의 균형 있는 선임 방식과 전문적인 역할 규정이 \\n가장 먼저 선행되어야 합니다. 한화의 계열사들은 독립성과 다양성을 기반으로 이사회가 합리적인 의사결정과 창의적인 \\n문제 해결을 수행할 수 있도록 각 사업 분야에 적합한 방식으로 이사회를 구성하고, 운영 방침을 마련해 이를 이해관계자에게 \\n투명하게 공개하고 있습니다. \\n투명경영\\n한화는 다양한 분야에서 전문 지식과 경험을 보유한 \\n사외이사를 선임하여 이사회의 다양성과 전문성을 \\n강화하고 있습니다. 특히 한화솔루션은 글로벌 \\n친환경 에너지 기업으로서 외국인 사외이사가 포함된 \\n다국적 이사회를 운영하고 있으며, \\n㈜한화, 한화에어로스페이스, 한화솔루션, \\n한화생명, 한화투자증권 등 5개 계열사는 \\n여성 사외이사를 선임하여 이사회의 다양성을 \\n확보하였습니다. 선임된 이사들은 기본 임기 2년 \\n동안 전문성과 책임 있는 업무 수행 여부에 대해 \\n종합적인 평가를 정기적으로 받게 되며, 평가 결과에 \\n따라 재선임 여부가 결정되도록 했습니다. \\n이사회 독립성 이사회 다양성과 전문성\\n㈜한화, 한화에어로스페이스, 한화솔루션, \\n한화생명, 한화손해보험, 한화투자증권, \\n한화시스템, 한화오션 등 총 8개 상장사는 \\n지속적으로 경쟁력을 강화하고 공정성·투명성·\\n독립성을 확보하여 상호 견제가 가능한 균형 있는 \\n지배구조 체제를 확립하기 위해 \\n‘기업지배구조헌장’을 제정, 공표하였습니다. \\n기업지배구조헌장에는 건전한 지배구조 확립을 위한 \\n이사회 및 감사위원회의 권한과 책임, 주주, 고객, \\n협력사, 임직원 등 다양한 이해관계자의 권익 보호를 \\n위한 내용이 포함되어 있습니다. 기업지배구조헌장은 \\n국제적인 기업지배구조 관행에 부합하는 원칙과 \\n기준을 세운 것으로, 회사 홈페이지에 게시하여 모든 \\n이해관계자가 열람할 수 있도록 하였습니다. \\n기업지배구조헌장 제정\\n이사회는 회사의 최고 의사결정기구로서 내부 \\n경영진의 감시·감독을 수행하기 때문에 경영진과 \\n지배주주로부터의 독립성이 반드시 보장되어야 \\n합니다. 한화의 7개 상장사는 이사회의 독립성 \\n확보를 위해 이사회의 과반 이상을 사외이사로 \\n선임하고 있으며, 사외이사는 임원후보추천위원회 \\n또는 사외이사후보추천위원회의 추천을 통해 \\n이사회에서 후보자로 선정되며, 최종적으로 \\n주주총회의 의결을 통해 투명하게 선임됩니다. 이에 \\n공정함을 더하기 위해 재직기간이  6년을 초과하는 \\n장기재직 사외이사는 추가적으로 연임할 수 없도록 \\n했으며, 그룹 계열사 출신의 사외이사 또한 선임될 \\n수 없도록 공통 제도를 마련해두고 있습니다. 한편, \\n한화에너지의 경우 비상장사임에도 불구하고 \\n사외이사 2인을 이사회 (이사의 수 총 5명)에 포함해 \\n지배구조에 투명성을 더하고 있습니다.\\nHanwha Overview Hanwha Businesses SustainabilityBusiness HighlightsChairman’ s  Message\\n 121')]}"
      ]
     },
     "execution_count": 49,
     "metadata": {},
     "output_type": "execute_result"
    }
   ],
   "source": [
    "agent_executor.invoke({\"input\": \"한화그룹 회장은 누구야?\"})"
   ]
  },
  {
   "cell_type": "code",
   "execution_count": 51,
   "metadata": {},
   "outputs": [
    {
     "name": "stdout",
     "output_type": "stream",
     "text": [
      "\n",
      "\n",
      "\u001b[1m> Entering new AgentExecutor chain...\u001b[0m\n",
      "\u001b[32;1m\u001b[1;3m로마에서 하루 동안 방문할 수 있는 주요 관광지를 추천해 드리겠습니다. 이 일정은 로마의 역사와 문화를 체험할 수 있는 장소들로 구성되어 있습니다.\n",
      "\n",
      "### 아침\n",
      "1. **콜로세움 (Colosseum)**: 로마의 상징적인 원형 경기장으로, 고대 로마의 검투사 경기가 열렸던 곳입니다. 미리 예약하면 긴 줄을 피할 수 있습니다.\n",
      "2. **로마 포럼 (Roman Forum)**: 콜로세움 근처에 위치한 고대 로마의 정치, 상업, 종교 중심지입니다. 유적을 둘러보며 로마의 역사를 느껴보세요.\n",
      "\n",
      "### 점심\n",
      "3. **트라스테베레 (Trastevere)**: 로마의 전통적인 동네로, 아기자기한 거리와 맛있는 레스토랑이 많습니다. 이곳에서 로마식 피자나 파스타를 즐겨보세요.\n",
      "\n",
      "### 오후\n",
      "4. **판테온 (Pantheon)**: 고대 로마의 신전으로, 현재는 교회로 사용되고 있습니다. 그 독특한 돔 구조와 아름다운 내부를 감상해 보세요.\n",
      "5. **나보나 광장 (Piazza Navona)**: 아름다운 분수와 바르코코 건축물로 둘러싸인 광장입니다. 거리 공연과 카페에서의 여유로운 시간을 즐길 수 있습니다.\n",
      "\n",
      "### 저녁\n",
      "6. **트레비 분수 (Trevi Fountain)**: 로마에서 가장 유명한 분수로, 동전을 던지면 다시 로마에 돌아온다는 전설이 있습니다. 저녁에 조명이 켜진 모습이 특히 아름답습니다.\n",
      "7. **스페인 계단 (Spanish Steps)**: 스페인 계단에서 여유롭게 앉아 주변을 감상하며 하루를 마무리하세요.\n",
      "\n",
      "이 일정을 통해 로마의 주요 명소를 효율적으로 둘러볼 수 있습니다. 편안한 신발을 신고, 카메라를 준비하는 것을 잊지 마세요! 추가로 궁금한 점이 있으면 말씀해 주세요.\u001b[0m\n",
      "\n",
      "\u001b[1m> Finished chain.\u001b[0m\n"
     ]
    },
    {
     "data": {
      "text/plain": [
       "{'input': '로마에 여행을 가려고 해. 하루동안 볼 수 있는 장소를 추천해줘.',\n",
       " 'chat_history': [AIMessage(content='한화그룹의 회장은 김승연입니다. 추가로 궁금한 점이 있으시면 말씀해 주세요!', additional_kwargs={}, response_metadata={}),\n",
       "  HumanMessage(content='로마에 대해서 알려줘', additional_kwargs={}, response_metadata={}),\n",
       "  AIMessage(content='로마는 이탈리아의 수도이자 역사적으로 중요한 도시로, 고대 로마 제국의 중심지였습니다. 로마는 다음과 같은 특징을 가지고 있습니다:\\n\\n1. **역사**: 로마는 기원전 753년에 건설된 것으로 전해지며, 고대 로마 제국의 발전과 함께 세계 역사에 큰 영향을 미쳤습니다. 로마 제국은 유럽, 북아프리카, 중동에 걸쳐 광범위한 지역을 지배했습니다.\\n\\n2. **문화**: 로마는 예술, 건축, 법률, 정치 등 다양한 분야에서 중요한 기여를 했습니다. 로마의 건축물 중에는 콜로세움, 판테온, 로마 포럼 등이 있습니다.\\n\\n3. **종교**: 로마는 가톨릭 교회의 중심지로, 바티칸 시국이 위치해 있습니다. 바티칸은 교황의 거주지이며, 세계에서 가장 작은 독립 국가입니다.\\n\\n4. **관광**: 로마는 매년 수많은 관광객이 방문하는 도시로, 역사적인 유적지와 미술관, 맛있는 음식으로 유명합니다. 트레비 분수, 스페인 계단, 나보나 광장 등은 인기 있는 관광 명소입니다.\\n\\n5. **음식**: 로마의 전통 음식으로는 카르보나라, 아마트리치아나, 로마식 피자 등이 있습니다.\\n\\n로마는 그 역사와 문화적 유산 덕분에 \"영원한 도시\"라는 별명을 가지고 있습니다. 추가로 궁금한 점이 있으면 말씀해 주세요!', additional_kwargs={}, response_metadata={}),\n",
       "  HumanMessage(content='로마에 여행을 가려고 해. 하루동안 볼 수 있는 장소를 추천해줘.', additional_kwargs={}, response_metadata={}),\n",
       "  AIMessage(content='로마에서 하루 동안 방문할 수 있는 주요 관광지를 추천해 드리겠습니다. 이 일정은 로마의 역사와 문화를 체험할 수 있는 장소들로 구성되어 있습니다.\\n\\n### 아침\\n1. **콜로세움 (Colosseum)**: 로마의 상징적인 원형 경기장으로, 고대 로마의 검투사 경기가 열렸던 곳입니다. 미리 예약하면 긴 줄을 피할 수 있습니다.\\n2. **로마 포럼 (Roman Forum)**: 콜로세움 근처에 위치한 고대 로마의 정치, 상업, 종교 중심지입니다. 유적을 둘러보며 로마의 역사를 느껴보세요.\\n\\n### 점심\\n3. **트라스테베레 (Trastevere)**: 로마의 전통적인 동네로, 아기자기한 거리와 맛있는 레스토랑이 많습니다. 이곳에서 로마식 피자나 파스타를 즐겨보세요.\\n\\n### 오후\\n4. **판테온 (Pantheon)**: 고대 로마의 신전으로, 현재는 교회로 사용되고 있습니다. 그 독특한 돔 구조와 아름다운 내부를 감상해 보세요.\\n5. **나보나 광장 (Piazza Navona)**: 아름다운 분수와 바르코코 건축물로 둘러싸인 광장입니다. 거리 공연과 카페에서의 여유로운 시간을 즐길 수 있습니다.\\n\\n### 저녁\\n6. **트레비 분수 (Trevi Fountain)**: 로마에서 가장 유명한 분수로, 동전을 던지면 다시 로마에 돌아온다는 전설이 있습니다. 저녁에 조명이 켜진 모습이 특히 아름답습니다.\\n7. **스페인 계단 (Spanish Steps)**: 스페인 계단에서 여유롭게 앉아 주변을 감상하며 하루를 마무리하세요.\\n\\n이 일정을 통해 로마의 주요 명소를 효율적으로 둘러볼 수 있습니다. 편안한 신발을 신고, 카메라를 준비하는 것을 잊지 마세요! 추가로 궁금한 점이 있으면 말씀해 주세요.', additional_kwargs={}, response_metadata={})],\n",
       " 'output': '로마에서 하루 동안 방문할 수 있는 주요 관광지를 추천해 드리겠습니다. 이 일정은 로마의 역사와 문화를 체험할 수 있는 장소들로 구성되어 있습니다.\\n\\n### 아침\\n1. **콜로세움 (Colosseum)**: 로마의 상징적인 원형 경기장으로, 고대 로마의 검투사 경기가 열렸던 곳입니다. 미리 예약하면 긴 줄을 피할 수 있습니다.\\n2. **로마 포럼 (Roman Forum)**: 콜로세움 근처에 위치한 고대 로마의 정치, 상업, 종교 중심지입니다. 유적을 둘러보며 로마의 역사를 느껴보세요.\\n\\n### 점심\\n3. **트라스테베레 (Trastevere)**: 로마의 전통적인 동네로, 아기자기한 거리와 맛있는 레스토랑이 많습니다. 이곳에서 로마식 피자나 파스타를 즐겨보세요.\\n\\n### 오후\\n4. **판테온 (Pantheon)**: 고대 로마의 신전으로, 현재는 교회로 사용되고 있습니다. 그 독특한 돔 구조와 아름다운 내부를 감상해 보세요.\\n5. **나보나 광장 (Piazza Navona)**: 아름다운 분수와 바르코코 건축물로 둘러싸인 광장입니다. 거리 공연과 카페에서의 여유로운 시간을 즐길 수 있습니다.\\n\\n### 저녁\\n6. **트레비 분수 (Trevi Fountain)**: 로마에서 가장 유명한 분수로, 동전을 던지면 다시 로마에 돌아온다는 전설이 있습니다. 저녁에 조명이 켜진 모습이 특히 아름답습니다.\\n7. **스페인 계단 (Spanish Steps)**: 스페인 계단에서 여유롭게 앉아 주변을 감상하며 하루를 마무리하세요.\\n\\n이 일정을 통해 로마의 주요 명소를 효율적으로 둘러볼 수 있습니다. 편안한 신발을 신고, 카메라를 준비하는 것을 잊지 마세요! 추가로 궁금한 점이 있으면 말씀해 주세요.',\n",
       " 'intermediate_steps': []}"
      ]
     },
     "execution_count": 51,
     "metadata": {},
     "output_type": "execute_result"
    }
   ],
   "source": [
    "agent_executor.invoke({\"input\": \"로마에 여행을 가려고 해. 하루동안 볼 수 있는 장소를 추천해줘.\"})"
   ]
  },
  {
   "cell_type": "markdown",
   "metadata": {},
   "source": [
    "## 봇이 인터넷을 탐색할 수 있도록 SerpApi 도구를 추가해보자"
   ]
  },
  {
   "cell_type": "code",
   "execution_count": 52,
   "metadata": {},
   "outputs": [],
   "source": [
    "from langchain import SerpAPIWrapper\n",
    "from langchain.agents import AgentType, initialize_agent\n",
    "from langchain_openai import OpenAI\n",
    "from langchain.tools import BaseTool, StructuredTool, Tool, tool\n",
    "\n",
    "import os\n",
    "from dotenv import load_dotenv\n",
    "\n",
    "load_dotenv(dotenv_path=\"../.env\")\n",
    "\n",
    "search = SerpAPIWrapper()"
   ]
  },
  {
   "cell_type": "code",
   "execution_count": 53,
   "metadata": {},
   "outputs": [],
   "source": [
    "llm = ChatOpenAI(\n",
    "    model=\"gpt-4o-mini\",\n",
    "    temperature=0\n",
    ")\n",
    "\n",
    "tools = [\n",
    "    Tool.from_function(\n",
    "        func=search.run,\n",
    "        name=\"Search\",\n",
    "        description=\"현재 일어나고 있는 일에 관한 질문에 답할 때 유용합니다.\"\n",
    "    ),\n",
    "    create_retriever_tool(\n",
    "        db.as_retriever(), \n",
    "        \"hanwha_travel\",\n",
    "        \"한화 그룹에 관한 문서를 검색해서 반환합니다.\"\n",
    "    )\n",
    "]\n",
    "\n",
    "agent_executor = create_conversational_retrieval_agent(\n",
    "    llm, \n",
    "    tools, \n",
    "    memory_key='chat_history', \n",
    "    verbose=True\n",
    ")"
   ]
  },
  {
   "cell_type": "code",
   "execution_count": 54,
   "metadata": {},
   "outputs": [
    {
     "data": {
      "text/plain": [
       "ConversationBufferMemory(chat_memory=InMemoryChatMessageHistory(messages=[]), return_messages=True, memory_key='chat_history')"
      ]
     },
     "execution_count": 54,
     "metadata": {},
     "output_type": "execute_result"
    }
   ],
   "source": [
    "memory"
   ]
  },
  {
   "cell_type": "code",
   "execution_count": 55,
   "metadata": {},
   "outputs": [
    {
     "name": "stdout",
     "output_type": "stream",
     "text": [
      "\n",
      "\n",
      "\u001b[1m> Entering new AgentExecutor chain...\u001b[0m\n",
      "\u001b[32;1m\u001b[1;3m인도는 다양한 문화와 역사, 자연 경관을 가진 나라로, 3일 동안 방문할 수 있는 여러 멋진 장소가 있습니다. 다음은 추천할 만한 몇 가지 장소입니다:\n",
      "\n",
      "1. **델리 (Delhi)**:\n",
      "   - **레드 포트 (Red Fort)**: 역사적인 성으로, 유네스코 세계유산에 등록되어 있습니다.\n",
      "   - **인디아 게이트 (India Gate)**: 전쟁 기념비로, 주변 공원에서 산책하기 좋습니다.\n",
      "   - **후마윤의 무덤 (Humayun's Tomb)**: 아름다운 정원과 함께 있는 무덤으로, 이슬람 건축의 걸작입니다.\n",
      "\n",
      "2. **아그라 (Agra)**:\n",
      "   - **타지 마할 (Taj Mahal)**: 인도의 상징적인 건축물로, 사랑의 기념비로 알려져 있습니다.\n",
      "   - **아그라 성 (Agra Fort)**: 역사적인 성으로, 타지 마할과 가까운 위치에 있습니다.\n",
      "\n",
      "3. **자이푸르 (Jaipur)**:\n",
      "   - **암베르 성 (Amber Fort)**: 아름다운 성으로, 경치가 뛰어나고 역사적인 가치가 높습니다.\n",
      "   - **시티 팰리스 (City Palace)**: 왕실의 거주지로, 박물관과 정원이 있습니다.\n",
      "\n",
      "4. **바라나시 (Varanasi)**:\n",
      "   - **갠지스 강 (Ganges River)**: 인도의 성스러운 강으로, 일출과 함께하는 아르티(예배 의식)를 관람할 수 있습니다.\n",
      "   - **사르나트 (Sarnath)**: 부처님이 첫 번째 설법을 한 장소로, 역사적인 유적지가 많습니다.\n",
      "\n",
      "5. **고아 (Goa)**:\n",
      "   - **해변**: 고아의 아름다운 해변에서 휴식을 취하거나 수상 스포츠를 즐길 수 있습니다.\n",
      "   - **식민지 시대 건축물**: 포르투갈 식민지 시대의 건축물들이 많이 남아 있습니다.\n",
      "\n",
      "이 외에도 인도에는 다양한 매력적인 장소가 많으니, 관심 있는 지역이나 테마에 따라 선택하시면 좋습니다!\u001b[0m\n",
      "\n",
      "\u001b[1m> Finished chain.\u001b[0m\n"
     ]
    },
    {
     "data": {
      "text/plain": [
       "{'input': '인도에서 3일 동안 방문할 수 있는 곳이 어디인가요?',\n",
       " 'chat_history': [HumanMessage(content='인도에서 3일 동안 방문할 수 있는 곳이 어디인가요?', additional_kwargs={}, response_metadata={}),\n",
       "  AIMessage(content=\"인도는 다양한 문화와 역사, 자연 경관을 가진 나라로, 3일 동안 방문할 수 있는 여러 멋진 장소가 있습니다. 다음은 추천할 만한 몇 가지 장소입니다:\\n\\n1. **델리 (Delhi)**:\\n   - **레드 포트 (Red Fort)**: 역사적인 성으로, 유네스코 세계유산에 등록되어 있습니다.\\n   - **인디아 게이트 (India Gate)**: 전쟁 기념비로, 주변 공원에서 산책하기 좋습니다.\\n   - **후마윤의 무덤 (Humayun's Tomb)**: 아름다운 정원과 함께 있는 무덤으로, 이슬람 건축의 걸작입니다.\\n\\n2. **아그라 (Agra)**:\\n   - **타지 마할 (Taj Mahal)**: 인도의 상징적인 건축물로, 사랑의 기념비로 알려져 있습니다.\\n   - **아그라 성 (Agra Fort)**: 역사적인 성으로, 타지 마할과 가까운 위치에 있습니다.\\n\\n3. **자이푸르 (Jaipur)**:\\n   - **암베르 성 (Amber Fort)**: 아름다운 성으로, 경치가 뛰어나고 역사적인 가치가 높습니다.\\n   - **시티 팰리스 (City Palace)**: 왕실의 거주지로, 박물관과 정원이 있습니다.\\n\\n4. **바라나시 (Varanasi)**:\\n   - **갠지스 강 (Ganges River)**: 인도의 성스러운 강으로, 일출과 함께하는 아르티(예배 의식)를 관람할 수 있습니다.\\n   - **사르나트 (Sarnath)**: 부처님이 첫 번째 설법을 한 장소로, 역사적인 유적지가 많습니다.\\n\\n5. **고아 (Goa)**:\\n   - **해변**: 고아의 아름다운 해변에서 휴식을 취하거나 수상 스포츠를 즐길 수 있습니다.\\n   - **식민지 시대 건축물**: 포르투갈 식민지 시대의 건축물들이 많이 남아 있습니다.\\n\\n이 외에도 인도에는 다양한 매력적인 장소가 많으니, 관심 있는 지역이나 테마에 따라 선택하시면 좋습니다!\", additional_kwargs={}, response_metadata={})],\n",
       " 'output': \"인도는 다양한 문화와 역사, 자연 경관을 가진 나라로, 3일 동안 방문할 수 있는 여러 멋진 장소가 있습니다. 다음은 추천할 만한 몇 가지 장소입니다:\\n\\n1. **델리 (Delhi)**:\\n   - **레드 포트 (Red Fort)**: 역사적인 성으로, 유네스코 세계유산에 등록되어 있습니다.\\n   - **인디아 게이트 (India Gate)**: 전쟁 기념비로, 주변 공원에서 산책하기 좋습니다.\\n   - **후마윤의 무덤 (Humayun's Tomb)**: 아름다운 정원과 함께 있는 무덤으로, 이슬람 건축의 걸작입니다.\\n\\n2. **아그라 (Agra)**:\\n   - **타지 마할 (Taj Mahal)**: 인도의 상징적인 건축물로, 사랑의 기념비로 알려져 있습니다.\\n   - **아그라 성 (Agra Fort)**: 역사적인 성으로, 타지 마할과 가까운 위치에 있습니다.\\n\\n3. **자이푸르 (Jaipur)**:\\n   - **암베르 성 (Amber Fort)**: 아름다운 성으로, 경치가 뛰어나고 역사적인 가치가 높습니다.\\n   - **시티 팰리스 (City Palace)**: 왕실의 거주지로, 박물관과 정원이 있습니다.\\n\\n4. **바라나시 (Varanasi)**:\\n   - **갠지스 강 (Ganges River)**: 인도의 성스러운 강으로, 일출과 함께하는 아르티(예배 의식)를 관람할 수 있습니다.\\n   - **사르나트 (Sarnath)**: 부처님이 첫 번째 설법을 한 장소로, 역사적인 유적지가 많습니다.\\n\\n5. **고아 (Goa)**:\\n   - **해변**: 고아의 아름다운 해변에서 휴식을 취하거나 수상 스포츠를 즐길 수 있습니다.\\n   - **식민지 시대 건축물**: 포르투갈 식민지 시대의 건축물들이 많이 남아 있습니다.\\n\\n이 외에도 인도에는 다양한 매력적인 장소가 많으니, 관심 있는 지역이나 테마에 따라 선택하시면 좋습니다!\",\n",
       " 'intermediate_steps': []}"
      ]
     },
     "execution_count": 55,
     "metadata": {},
     "output_type": "execute_result"
    }
   ],
   "source": [
    "agent_executor.invoke({\"input\": \"인도에서 3일 동안 방문할 수 있는 곳이 어디인가요?\"})"
   ]
  },
  {
   "cell_type": "code",
   "execution_count": 56,
   "metadata": {},
   "outputs": [
    {
     "name": "stdout",
     "output_type": "stream",
     "text": [
      "\n",
      "\n",
      "\u001b[1m> Entering new AgentExecutor chain...\u001b[0m\n",
      "\u001b[32;1m\u001b[1;3m\n",
      "Invoking: `hanwha_travel` with `{'query': '한화그룹 회장'}`\n",
      "\n",
      "\n",
      "\u001b[0m\u001b[33;1m\u001b[1;3m한화의 \n",
      "인재경영 활동\n",
      "한화그룹\n",
      "안식월\n",
      "한화그룹\n",
      "아빠휴가\n",
      "한화솔루션 큐셀 부문\n",
      "근무환경 개선 및 일자리 창출\n",
      "한화그룹\n",
      "자기개발 휴직\n",
      "한화솔루션 케미칼 부문\n",
      "일하기 좋은 기업 인증, \n",
      "여성친화기업, HR 핫라인 조성\n",
      "한화첨단소재\n",
      "조직문화 활성화, 가족친화 인증 획득,\n",
      "소통위원회 운영,\n",
      "신입사원 해외법인 연수 \n",
      "한화생명\n",
      "인권 정책 기반 인권 교육 진행, 인권 \n",
      "영향평가 시행,  임직원 안전보건 \n",
      "기본방침 수립\n",
      "㈜한화 건설 부문\n",
      "임직원 복리후생 \n",
      "제도 개선, \n",
      "코로나19 확산에 따른 \n",
      "임직원 지원\n",
      "한화시스템 한화오션\n",
      "2021년, 2023년 \n",
      "일자리 으뜸기업 선정\n",
      "청년이사회 운영\n",
      "한화자산운용\n",
      "2021년 일자리 으뜸기업 선정\n",
      "한화에어로스페이스\n",
      "직장내 괴롭힘, 성희롱 방지를 위한 \n",
      "시스템 구축\n",
      "Hanwha Overview Hanwha Businesses SustainabilityBusiness HighlightsChairman’ s  Message\n",
      " 110\n",
      "\n",
      "한화는 구성원들이 일과 삶의 균형을 통해 업무와 \n",
      "생활 모두에 집중할 수 있는 유연한 조직문화를 \n",
      "만들기 위해 다양한 제도를 운영하고 있습니다. \n",
      "근무 형태와 시간을 자유롭게 선택할 수 있는 \n",
      "‘유연근무제’와 함께 한 달 휴가를 제공하는 \n",
      "‘안식월’, 배우자 출산 후 3개월 이내 남성 직원의 \n",
      "1개월 휴가 사용을 의무화하는 ‘아빠휴가’, \n",
      "자기개발을 위한 ‘채움 휴직’ 등의 휴가 제도를 \n",
      "시행하고 있습니다. 이와 더불어 계열사별로 사업의 \n",
      "특성에 맞춰 차별화된 복지 제도를 운영 중입니다. \n",
      "한화는 구성원의 안전하고 건강한 근무환경을 \n",
      "조성하고 지역사회로부터 신뢰받을 수 있도록 \n",
      "안전문화 구축에도 역량을 집중하고 있습니다. \n",
      "산업 재해와 안전사고 예방을 위해 안전 규정과 \n",
      "안전 수칙을 제정, 시행하고 정기적인 안전 점검과 \n",
      "안전 교육을 실시하는 한편 비상 상황에 대비한 \n",
      "훈련을 강화하는 등 안전문화 정착에 최선을 다하고 \n",
      "있습니다. \n",
      "체계적인 우수 인재 육성 유연하고 건강한 조직문화 조성\n",
      "한화는 UN글로벌콤팩트 10대 원칙을 비롯한 \n",
      "국내외의 인권정책을 적극 지지하고 준수하며, \n",
      "성별· 인종·국적·출신·종교 등에 대한 차별을 \n",
      "금지하고 다양성을 존중합니다. 성희롱, 직장 내 \n",
      "괴롭힘 등을 방지하고 인권 의식을 함양하기 위해 \n",
      "전 구성원을 대상으로 인권 교육을 시행하고 있으며, \n",
      "인권 리스크의 사전 예방을 위한 인권 영향평가도 \n",
      "정기적으로 실시하고 있습니다. 또한 한화솔루션 \n",
      "케미칼 부문의 ‘핫라인’, 한화에어로스페이스의 \n",
      "‘스마트고충처리센터’ 등 직장 생활의 고충을 처리할 \n",
      "수 있는 고충처리 시스템을 구축해 상담을 통한 고충 \n",
      "해결과 재발 방지에 힘쓰고 있습니다. 아울러 모성 \n",
      "보호 제도, 가족친화기업 인증 등 다양한 가족친화 \n",
      "제도를 운영하여 여성이 일하기 좋은 직장을 \n",
      "만들어가고 있습니다. \n",
      "구성원의 인권과 다양성 존중\n",
      "한화는 100년 한화를 이끌어갈 우수 인재의 영입과 \n",
      "육성을 위해 과감한 투자와 합리적인 인사 제도 \n",
      "구축에 힘쓰고 있습니다. 특히 역할별·직무별로 \n",
      "체계적이고 다양한 교육 프로그램을 운영해 글로벌 \n",
      "경쟁력을 갖춘 인재를 육성하는 데 주력하고 \n",
      "있습니다. 그룹 전체 신입사원을 대상으로 하는 \n",
      "‘HPMP(Hanwha Pre Manager Program)’\n",
      "를 통해 신입사원에게 필요한 직무역량 교육, \n",
      "로열티 제고 프로그램 등을 제공하고, 팀장급을 \n",
      "대상으로 하는 ‘EMBA’, 임원급을 대상으로 하는 \n",
      "‘AMP(Advanced Management Program, 국내외 \n",
      "유수의 최고경영자과정)’를 통해 그룹 최고경영자 \n",
      "육성을 위한 교육 기회를 체계적으로 지원합니다.  \n",
      "글로벌 인재 육성을 위해서는 글로벌 역량과 \n",
      "자기계발 의지가 뛰어난 인력을 선발하여 글로벌 \n",
      "사업수행역량 교육과 해외 파견근무 기회를 제공하는 \n",
      "‘Global Talent Program’과 우수 인재를 해외 \n",
      "전략지역에 파견하여 해외 사업을 주도할 전문가로 \n",
      "양성하는 ‘지역전문가제도’ 등을 운영하고 있습니다.\n",
      "\n",
      "창의적이고 열정적인 인재는 한화의 발전과 성공의 기반이며 향후 지속 성장의 원동력입니다. 한화는 모든 구성원이 공정하고 \n",
      "합리적인 인사·육성 제도를 통해 ‘도전·헌신·정도’ 의 핵심가치를 내재한 글로벌 인재로 성장할 수 있도록 핵심 역량을 키워나가고 \n",
      "있습니다. 또한 구성원들이 일과 삶의 균형 속에서 성장하고 행복할 수 있도록 개개인의 인권과 다양성을 존중할 뿐 아니라 유연한 \n",
      "조직문화와 건강한 근무환경을 조성하고 있습니다.\n",
      "인재경영\n",
      "도전하고 헌신하며 정도를 지키는 인재\n",
      "한화가 추구하는 인재상은 구성원이 반드시 갖춰야 \n",
      "할 도전·헌신·정도의 핵심가치에  부합하고 이에 \n",
      "따른 행동 원칙을 실천하는 사람입니다. ‘기존의 틀에 \n",
      "안주하지 않고 변화와 혁신을 통해 최고를 추구하는 \n",
      "도전적인 인재’, ‘회사, 고객, 동료와의 인연을 \n",
      "소중히 여기며 보다 큰 목표를 위해 혼신의 힘을 \n",
      "다하는 인재’ 그리고 ‘자긍심을 바탕으로 원칙에 \n",
      "따라 바르고 공정하게 행동하는 인재’를 발굴하고 \n",
      "육성하기 위해 노력하고 있습니다. \n",
      "한화 인재상\n",
      "도전\n",
      "도전(Challenge)하는 사람\n",
      "기존의 틀에 안주하지 않고 \n",
      "변화와 혁신을 통해 \n",
      "최고를 추구한다.\n",
      "• 맡은 분야에서 최고가 되기 위해 \n",
      "적극적인 자기개발을 한다.\n",
      "• 열린 사고와 창의적 발상으로 새로운 \n",
      "방안과 기회를 찾아낸다.\n",
      "• 할 수 있다는 자신감으로 도전적인 \n",
      "목표를 설정하고 달성한다.\n",
      "헌신 \n",
      "헌신(Dedication) 하는 사람\n",
      "회사, 고객, 동료와의 인연을 \n",
      "소중히 여기며  보다 큰 목표를 위해 \n",
      "혼신의 힘을 다한다.\n",
      "• 우리를 먼저 생각하며 공동의 목표를 \n",
      "최우선 한다.\n",
      "• 고객과의 약속을 소중히 여기며 \n",
      "고객가치를 지속적으로 창출한다.\n",
      "• 공동운명체의식을 바탕으로, 서로의 \n",
      "가능성을 믿고 협력한다.\n",
      "정도 \n",
      "정도(Integrity)를 지키는 사람\n",
      "자긍심을 바탕으로 \n",
      "원칙에 따라 \n",
      "바르고 공정하게 행동한다.\n",
      "• 눈 앞의 이익에 흔들리지 않고 원칙에 \n",
      "따라 정직하게 행동한다.\n",
      "• 공과 사를 구분하여 능력과 성과에 \n",
      "따라 투명하고 공정하게 대우한다.\n",
      "Hanwha Overview Hanwha Businesses SustainabilityBusiness HighlightsChairman’ s  Message\n",
      " 108\n",
      "\n",
      "투명경영을 실천하기 위해서는 기업의 최고 의사결정기구인 이사회의 균형 있는 선임 방식과 전문적인 역할 규정이 \n",
      "가장 먼저 선행되어야 합니다. 한화의 계열사들은 독립성과 다양성을 기반으로 이사회가 합리적인 의사결정과 창의적인 \n",
      "문제 해결을 수행할 수 있도록 각 사업 분야에 적합한 방식으로 이사회를 구성하고, 운영 방침을 마련해 이를 이해관계자에게 \n",
      "투명하게 공개하고 있습니다. \n",
      "투명경영\n",
      "한화는 다양한 분야에서 전문 지식과 경험을 보유한 \n",
      "사외이사를 선임하여 이사회의 다양성과 전문성을 \n",
      "강화하고 있습니다. 특히 한화솔루션은 글로벌 \n",
      "친환경 에너지 기업으로서 외국인 사외이사가 포함된 \n",
      "다국적 이사회를 운영하고 있으며, \n",
      "㈜한화, 한화에어로스페이스, 한화솔루션, \n",
      "한화생명, 한화투자증권 등 5개 계열사는 \n",
      "여성 사외이사를 선임하여 이사회의 다양성을 \n",
      "확보하였습니다. 선임된 이사들은 기본 임기 2년 \n",
      "동안 전문성과 책임 있는 업무 수행 여부에 대해 \n",
      "종합적인 평가를 정기적으로 받게 되며, 평가 결과에 \n",
      "따라 재선임 여부가 결정되도록 했습니다. \n",
      "이사회 독립성 이사회 다양성과 전문성\n",
      "㈜한화, 한화에어로스페이스, 한화솔루션, \n",
      "한화생명, 한화손해보험, 한화투자증권, \n",
      "한화시스템, 한화오션 등 총 8개 상장사는 \n",
      "지속적으로 경쟁력을 강화하고 공정성·투명성·\n",
      "독립성을 확보하여 상호 견제가 가능한 균형 있는 \n",
      "지배구조 체제를 확립하기 위해 \n",
      "‘기업지배구조헌장’을 제정, 공표하였습니다. \n",
      "기업지배구조헌장에는 건전한 지배구조 확립을 위한 \n",
      "이사회 및 감사위원회의 권한과 책임, 주주, 고객, \n",
      "협력사, 임직원 등 다양한 이해관계자의 권익 보호를 \n",
      "위한 내용이 포함되어 있습니다. 기업지배구조헌장은 \n",
      "국제적인 기업지배구조 관행에 부합하는 원칙과 \n",
      "기준을 세운 것으로, 회사 홈페이지에 게시하여 모든 \n",
      "이해관계자가 열람할 수 있도록 하였습니다. \n",
      "기업지배구조헌장 제정\n",
      "이사회는 회사의 최고 의사결정기구로서 내부 \n",
      "경영진의 감시·감독을 수행하기 때문에 경영진과 \n",
      "지배주주로부터의 독립성이 반드시 보장되어야 \n",
      "합니다. 한화의 7개 상장사는 이사회의 독립성 \n",
      "확보를 위해 이사회의 과반 이상을 사외이사로 \n",
      "선임하고 있으며, 사외이사는 임원후보추천위원회 \n",
      "또는 사외이사후보추천위원회의 추천을 통해 \n",
      "이사회에서 후보자로 선정되며, 최종적으로 \n",
      "주주총회의 의결을 통해 투명하게 선임됩니다. 이에 \n",
      "공정함을 더하기 위해 재직기간이  6년을 초과하는 \n",
      "장기재직 사외이사는 추가적으로 연임할 수 없도록 \n",
      "했으며, 그룹 계열사 출신의 사외이사 또한 선임될 \n",
      "수 없도록 공통 제도를 마련해두고 있습니다. 한편, \n",
      "한화에너지의 경우 비상장사임에도 불구하고 \n",
      "사외이사 2인을 이사회 (이사의 수 총 5명)에 포함해 \n",
      "지배구조에 투명성을 더하고 있습니다.\n",
      "Hanwha Overview Hanwha Businesses SustainabilityBusiness HighlightsChairman’ s  Message\n",
      " 121\u001b[0m\u001b[32;1m\u001b[1;3m한화그룹의 회장은 **김승연**입니다. 그는 한화그룹의 회장으로서 그룹의 경영과 전략을 이끌고 있습니다.\u001b[0m\n",
      "\n",
      "\u001b[1m> Finished chain.\u001b[0m\n"
     ]
    },
    {
     "data": {
      "text/plain": [
       "{'input': '한화그룹 회장은 누구인가?',\n",
       " 'chat_history': [AIMessage(content='한화그룹의 회장은 **김승연**입니다. 그는 한화그룹의 회장으로서 그룹의 경영과 전략을 이끌고 있습니다.', additional_kwargs={}, response_metadata={})],\n",
       " 'output': '한화그룹의 회장은 **김승연**입니다. 그는 한화그룹의 회장으로서 그룹의 경영과 전략을 이끌고 있습니다.',\n",
       " 'intermediate_steps': [(AgentActionMessageLog(tool='hanwha_travel', tool_input={'query': '한화그룹 회장'}, log=\"\\nInvoking: `hanwha_travel` with `{'query': '한화그룹 회장'}`\\n\\n\\n\", message_log=[AIMessage(content='', additional_kwargs={'function_call': {'arguments': '{\"query\":\"한화그룹 회장\"}', 'name': 'hanwha_travel'}, 'refusal': None}, response_metadata={'token_usage': {'completion_tokens': 23, 'prompt_tokens': 637, 'total_tokens': 660, 'completion_tokens_details': {'accepted_prediction_tokens': 0, 'audio_tokens': 0, 'reasoning_tokens': 0, 'rejected_prediction_tokens': 0}, 'prompt_tokens_details': {'audio_tokens': 0, 'cached_tokens': 0}}, 'model_name': 'gpt-4o-mini-2024-07-18', 'system_fingerprint': 'fp_d02d531b47', 'finish_reason': 'function_call', 'logprobs': None}, id='run-26846893-4a67-49bd-96ed-37f183871f6f-0', usage_metadata={'input_tokens': 637, 'output_tokens': 23, 'total_tokens': 660, 'input_token_details': {'audio': 0, 'cache_read': 0}, 'output_token_details': {'audio': 0, 'reasoning': 0}})]),\n",
       "   '한화의 \\n인재경영 활동\\n한화그룹\\n안식월\\n한화그룹\\n아빠휴가\\n한화솔루션 큐셀 부문\\n근무환경 개선 및 일자리 창출\\n한화그룹\\n자기개발 휴직\\n한화솔루션 케미칼 부문\\n일하기 좋은 기업 인증, \\n여성친화기업, HR 핫라인 조성\\n한화첨단소재\\n조직문화 활성화, 가족친화 인증 획득,\\n소통위원회 운영,\\n신입사원 해외법인 연수 \\n한화생명\\n인권 정책 기반 인권 교육 진행, 인권 \\n영향평가 시행,  임직원 안전보건 \\n기본방침 수립\\n㈜한화 건설 부문\\n임직원 복리후생 \\n제도 개선, \\n코로나19 확산에 따른 \\n임직원 지원\\n한화시스템 한화오션\\n2021년, 2023년 \\n일자리 으뜸기업 선정\\n청년이사회 운영\\n한화자산운용\\n2021년 일자리 으뜸기업 선정\\n한화에어로스페이스\\n직장내 괴롭힘, 성희롱 방지를 위한 \\n시스템 구축\\nHanwha Overview Hanwha Businesses SustainabilityBusiness HighlightsChairman’ s  Message\\n 110\\n\\n한화는 구성원들이 일과 삶의 균형을 통해 업무와 \\n생활 모두에 집중할 수 있는 유연한 조직문화를 \\n만들기 위해 다양한 제도를 운영하고 있습니다. \\n근무 형태와 시간을 자유롭게 선택할 수 있는 \\n‘유연근무제’와 함께 한 달 휴가를 제공하는 \\n‘안식월’, 배우자 출산 후 3개월 이내 남성 직원의 \\n1개월 휴가 사용을 의무화하는 ‘아빠휴가’, \\n자기개발을 위한 ‘채움 휴직’ 등의 휴가 제도를 \\n시행하고 있습니다. 이와 더불어 계열사별로 사업의 \\n특성에 맞춰 차별화된 복지 제도를 운영 중입니다. \\n한화는 구성원의 안전하고 건강한 근무환경을 \\n조성하고 지역사회로부터 신뢰받을 수 있도록 \\n안전문화 구축에도 역량을 집중하고 있습니다. \\n산업 재해와 안전사고 예방을 위해 안전 규정과 \\n안전 수칙을 제정, 시행하고 정기적인 안전 점검과 \\n안전 교육을 실시하는 한편 비상 상황에 대비한 \\n훈련을 강화하는 등 안전문화 정착에 최선을 다하고 \\n있습니다. \\n체계적인 우수 인재 육성 유연하고 건강한 조직문화 조성\\n한화는 UN글로벌콤팩트 10대 원칙을 비롯한 \\n국내외의 인권정책을 적극 지지하고 준수하며, \\n성별· 인종·국적·출신·종교 등에 대한 차별을 \\n금지하고 다양성을 존중합니다. 성희롱, 직장 내 \\n괴롭힘 등을 방지하고 인권 의식을 함양하기 위해 \\n전 구성원을 대상으로 인권 교육을 시행하고 있으며, \\n인권 리스크의 사전 예방을 위한 인권 영향평가도 \\n정기적으로 실시하고 있습니다. 또한 한화솔루션 \\n케미칼 부문의 ‘핫라인’, 한화에어로스페이스의 \\n‘스마트고충처리센터’ 등 직장 생활의 고충을 처리할 \\n수 있는 고충처리 시스템을 구축해 상담을 통한 고충 \\n해결과 재발 방지에 힘쓰고 있습니다. 아울러 모성 \\n보호 제도, 가족친화기업 인증 등 다양한 가족친화 \\n제도를 운영하여 여성이 일하기 좋은 직장을 \\n만들어가고 있습니다. \\n구성원의 인권과 다양성 존중\\n한화는 100년 한화를 이끌어갈 우수 인재의 영입과 \\n육성을 위해 과감한 투자와 합리적인 인사 제도 \\n구축에 힘쓰고 있습니다. 특히 역할별·직무별로 \\n체계적이고 다양한 교육 프로그램을 운영해 글로벌 \\n경쟁력을 갖춘 인재를 육성하는 데 주력하고 \\n있습니다. 그룹 전체 신입사원을 대상으로 하는 \\n‘HPMP(Hanwha Pre Manager Program)’\\n를 통해 신입사원에게 필요한 직무역량 교육, \\n로열티 제고 프로그램 등을 제공하고, 팀장급을 \\n대상으로 하는 ‘EMBA’, 임원급을 대상으로 하는 \\n‘AMP(Advanced Management Program, 국내외 \\n유수의 최고경영자과정)’를 통해 그룹 최고경영자 \\n육성을 위한 교육 기회를 체계적으로 지원합니다.  \\n글로벌 인재 육성을 위해서는 글로벌 역량과 \\n자기계발 의지가 뛰어난 인력을 선발하여 글로벌 \\n사업수행역량 교육과 해외 파견근무 기회를 제공하는 \\n‘Global Talent Program’과 우수 인재를 해외 \\n전략지역에 파견하여 해외 사업을 주도할 전문가로 \\n양성하는 ‘지역전문가제도’ 등을 운영하고 있습니다.\\n\\n창의적이고 열정적인 인재는 한화의 발전과 성공의 기반이며 향후 지속 성장의 원동력입니다. 한화는 모든 구성원이 공정하고 \\n합리적인 인사·육성 제도를 통해 ‘도전·헌신·정도’ 의 핵심가치를 내재한 글로벌 인재로 성장할 수 있도록 핵심 역량을 키워나가고 \\n있습니다. 또한 구성원들이 일과 삶의 균형 속에서 성장하고 행복할 수 있도록 개개인의 인권과 다양성을 존중할 뿐 아니라 유연한 \\n조직문화와 건강한 근무환경을 조성하고 있습니다.\\n인재경영\\n도전하고 헌신하며 정도를 지키는 인재\\n한화가 추구하는 인재상은 구성원이 반드시 갖춰야 \\n할 도전·헌신·정도의 핵심가치에  부합하고 이에 \\n따른 행동 원칙을 실천하는 사람입니다. ‘기존의 틀에 \\n안주하지 않고 변화와 혁신을 통해 최고를 추구하는 \\n도전적인 인재’, ‘회사, 고객, 동료와의 인연을 \\n소중히 여기며 보다 큰 목표를 위해 혼신의 힘을 \\n다하는 인재’ 그리고 ‘자긍심을 바탕으로 원칙에 \\n따라 바르고 공정하게 행동하는 인재’를 발굴하고 \\n육성하기 위해 노력하고 있습니다. \\n한화 인재상\\n도전\\n도전(Challenge)하는 사람\\n기존의 틀에 안주하지 않고 \\n변화와 혁신을 통해 \\n최고를 추구한다.\\n• 맡은 분야에서 최고가 되기 위해 \\n적극적인 자기개발을 한다.\\n• 열린 사고와 창의적 발상으로 새로운 \\n방안과 기회를 찾아낸다.\\n• 할 수 있다는 자신감으로 도전적인 \\n목표를 설정하고 달성한다.\\n헌신 \\n헌신(Dedication) 하는 사람\\n회사, 고객, 동료와의 인연을 \\n소중히 여기며  보다 큰 목표를 위해 \\n혼신의 힘을 다한다.\\n• 우리를 먼저 생각하며 공동의 목표를 \\n최우선 한다.\\n• 고객과의 약속을 소중히 여기며 \\n고객가치를 지속적으로 창출한다.\\n• 공동운명체의식을 바탕으로, 서로의 \\n가능성을 믿고 협력한다.\\n정도 \\n정도(Integrity)를 지키는 사람\\n자긍심을 바탕으로 \\n원칙에 따라 \\n바르고 공정하게 행동한다.\\n• 눈 앞의 이익에 흔들리지 않고 원칙에 \\n따라 정직하게 행동한다.\\n• 공과 사를 구분하여 능력과 성과에 \\n따라 투명하고 공정하게 대우한다.\\nHanwha Overview Hanwha Businesses SustainabilityBusiness HighlightsChairman’ s  Message\\n 108\\n\\n투명경영을 실천하기 위해서는 기업의 최고 의사결정기구인 이사회의 균형 있는 선임 방식과 전문적인 역할 규정이 \\n가장 먼저 선행되어야 합니다. 한화의 계열사들은 독립성과 다양성을 기반으로 이사회가 합리적인 의사결정과 창의적인 \\n문제 해결을 수행할 수 있도록 각 사업 분야에 적합한 방식으로 이사회를 구성하고, 운영 방침을 마련해 이를 이해관계자에게 \\n투명하게 공개하고 있습니다. \\n투명경영\\n한화는 다양한 분야에서 전문 지식과 경험을 보유한 \\n사외이사를 선임하여 이사회의 다양성과 전문성을 \\n강화하고 있습니다. 특히 한화솔루션은 글로벌 \\n친환경 에너지 기업으로서 외국인 사외이사가 포함된 \\n다국적 이사회를 운영하고 있으며, \\n㈜한화, 한화에어로스페이스, 한화솔루션, \\n한화생명, 한화투자증권 등 5개 계열사는 \\n여성 사외이사를 선임하여 이사회의 다양성을 \\n확보하였습니다. 선임된 이사들은 기본 임기 2년 \\n동안 전문성과 책임 있는 업무 수행 여부에 대해 \\n종합적인 평가를 정기적으로 받게 되며, 평가 결과에 \\n따라 재선임 여부가 결정되도록 했습니다. \\n이사회 독립성 이사회 다양성과 전문성\\n㈜한화, 한화에어로스페이스, 한화솔루션, \\n한화생명, 한화손해보험, 한화투자증권, \\n한화시스템, 한화오션 등 총 8개 상장사는 \\n지속적으로 경쟁력을 강화하고 공정성·투명성·\\n독립성을 확보하여 상호 견제가 가능한 균형 있는 \\n지배구조 체제를 확립하기 위해 \\n‘기업지배구조헌장’을 제정, 공표하였습니다. \\n기업지배구조헌장에는 건전한 지배구조 확립을 위한 \\n이사회 및 감사위원회의 권한과 책임, 주주, 고객, \\n협력사, 임직원 등 다양한 이해관계자의 권익 보호를 \\n위한 내용이 포함되어 있습니다. 기업지배구조헌장은 \\n국제적인 기업지배구조 관행에 부합하는 원칙과 \\n기준을 세운 것으로, 회사 홈페이지에 게시하여 모든 \\n이해관계자가 열람할 수 있도록 하였습니다. \\n기업지배구조헌장 제정\\n이사회는 회사의 최고 의사결정기구로서 내부 \\n경영진의 감시·감독을 수행하기 때문에 경영진과 \\n지배주주로부터의 독립성이 반드시 보장되어야 \\n합니다. 한화의 7개 상장사는 이사회의 독립성 \\n확보를 위해 이사회의 과반 이상을 사외이사로 \\n선임하고 있으며, 사외이사는 임원후보추천위원회 \\n또는 사외이사후보추천위원회의 추천을 통해 \\n이사회에서 후보자로 선정되며, 최종적으로 \\n주주총회의 의결을 통해 투명하게 선임됩니다. 이에 \\n공정함을 더하기 위해 재직기간이  6년을 초과하는 \\n장기재직 사외이사는 추가적으로 연임할 수 없도록 \\n했으며, 그룹 계열사 출신의 사외이사 또한 선임될 \\n수 없도록 공통 제도를 마련해두고 있습니다. 한편, \\n한화에너지의 경우 비상장사임에도 불구하고 \\n사외이사 2인을 이사회 (이사의 수 총 5명)에 포함해 \\n지배구조에 투명성을 더하고 있습니다.\\nHanwha Overview Hanwha Businesses SustainabilityBusiness HighlightsChairman’ s  Message\\n 121')]}"
      ]
     },
     "execution_count": 56,
     "metadata": {},
     "output_type": "execute_result"
    }
   ],
   "source": [
    "agent_executor.invoke({\"input\": \"한화그룹 회장은 누구인가?\"})"
   ]
  },
  {
   "cell_type": "code",
   "execution_count": null,
   "metadata": {},
   "outputs": [],
   "source": []
  }
 ],
 "metadata": {
  "language_info": {
   "name": "python"
  }
 },
 "nbformat": 4,
 "nbformat_minor": 2
}
